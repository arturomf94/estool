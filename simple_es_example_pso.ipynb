{
  "nbformat": 4,
  "nbformat_minor": 0,
  "metadata": {
    "colab": {
      "name": "Copy of simple_es_example_pso.ipynb",
      "provenance": [],
      "collapsed_sections": [],
      "include_colab_link": true
    },
    "kernelspec": {
      "name": "python3",
      "display_name": "Python 3"
    }
  },
  "cells": [
    {
      "cell_type": "markdown",
      "metadata": {
        "id": "view-in-github",
        "colab_type": "text"
      },
      "source": [
        "<a href=\"https://colab.research.google.com/github/arturomf94/estool/blob/master/simple_es_example_pso.ipynb\" target=\"_parent\"><img src=\"https://colab.research.google.com/assets/colab-badge.svg\" alt=\"Open In Colab\"/></a>"
      ]
    },
    {
      "cell_type": "code",
      "metadata": {
        "id": "Ls9oqkAJElu4",
        "colab_type": "code",
        "outputId": "2440ad8b-fe26-4a1b-94c1-6e264211253e",
        "colab": {
          "base_uri": "https://localhost:8080/",
          "height": 141
        }
      },
      "source": [
        "!git clone https://github.com/arturomf94/estool.git\n",
        "import os\n",
        "os.chdir('estool')"
      ],
      "execution_count": 2,
      "outputs": [
        {
          "output_type": "stream",
          "text": [
            "Cloning into 'estool'...\n",
            "remote: Enumerating objects: 191, done.\u001b[K\n",
            "remote: Counting objects: 100% (191/191), done.\u001b[K\n",
            "remote: Compressing objects: 100% (139/139), done.\u001b[K\n",
            "remote: Total 489 (delta 95), reused 144 (delta 52), pack-reused 298\n",
            "Receiving objects: 100% (489/489), 3.02 MiB | 5.25 MiB/s, done.\n",
            "Resolving deltas: 100% (203/203), done.\n"
          ],
          "name": "stdout"
        }
      ]
    },
    {
      "cell_type": "code",
      "metadata": {
        "id": "8w3MZYvaFMmm",
        "colab_type": "code",
        "outputId": "19023598-04b5-43f7-ba0b-be92104ef564",
        "colab": {
          "base_uri": "https://localhost:8080/",
          "height": 1000
        }
      },
      "source": [
        "!pip install -r requirements.txt"
      ],
      "execution_count": 3,
      "outputs": [
        {
          "output_type": "stream",
          "text": [
            "Collecting gym==0.9.4 (from -r requirements.txt (line 1))\n",
            "\u001b[?25l  Downloading https://files.pythonhosted.org/packages/f8/9f/b50f4c04a97e316ebfccae3104e5edbfe7bc1c687ee9ebeca6fa6343d197/gym-0.9.4.tar.gz (157kB)\n",
            "\u001b[K     |████████████████████████████████| 163kB 7.7MB/s \n",
            "\u001b[?25hRequirement already satisfied: mpi4py in /usr/local/lib/python3.6/dist-packages (from -r requirements.txt (line 2)) (3.0.2)\n",
            "Collecting numpy==1.13.3 (from -r requirements.txt (line 3))\n",
            "\u001b[?25l  Downloading https://files.pythonhosted.org/packages/57/a7/e3e6bd9d595125e1abbe162e323fd2d06f6f6683185294b79cd2cdb190d5/numpy-1.13.3-cp36-cp36m-manylinux1_x86_64.whl (17.0MB)\n",
            "\u001b[K     |████████████████████████████████| 17.0MB 14.1MB/s \n",
            "\u001b[?25hCollecting cma (from -r requirements.txt (line 4))\n",
            "\u001b[?25l  Downloading https://files.pythonhosted.org/packages/b9/3b/87a4efbcfeaf3172d81ef843f0b0c34c3ba60ec884aa6777f34f68b57418/cma-2.7.0-py2.py3-none-any.whl (239kB)\n",
            "\u001b[K     |████████████████████████████████| 245kB 50.2MB/s \n",
            "\u001b[?25hCollecting pybullet==1.6.3 (from -r requirements.txt (line 5))\n",
            "\u001b[?25l  Downloading https://files.pythonhosted.org/packages/0c/48/cd8eed5b6bade50ab0e65d3069055f7527d1a964a1dbd8a1e6a5b2222345/pybullet-1.6.3.tar.gz (16.1MB)\n",
            "\u001b[K     |████████████████████████████████| 16.1MB 31.5MB/s \n",
            "\u001b[?25hCollecting box2d-py (from -r requirements.txt (line 6))\n",
            "\u001b[?25l  Downloading https://files.pythonhosted.org/packages/06/bd/6cdc3fd994b0649dcf5d9bad85bd9e26172308bbe9a421bfc6fdbf5081a6/box2d_py-2.3.8-cp36-cp36m-manylinux1_x86_64.whl (448kB)\n",
            "\u001b[K     |████████████████████████████████| 450kB 43.9MB/s \n",
            "\u001b[?25hCollecting roboschool (from -r requirements.txt (line 7))\n",
            "\u001b[?25l  Downloading https://files.pythonhosted.org/packages/78/d4/014e2589708f6b49b75215e5404559dd0ce76e301aed01ae9efa2dc1bfe5/roboschool-1.0.49-cp36-cp36m-manylinux1_x86_64.whl (48.9MB)\n",
            "\u001b[K     |████████████████████████████████| 48.9MB 1.1MB/s \n",
            "\u001b[?25hCollecting nevergrad (from -r requirements.txt (line 8))\n",
            "\u001b[?25l  Downloading https://files.pythonhosted.org/packages/66/cb/87eaf13e1978126dad2b763060075b36abe578eeef0e7e14c91336220f00/nevergrad-0.2.3-py3-none-any.whl (175kB)\n",
            "\u001b[K     |████████████████████████████████| 184kB 44.8MB/s \n",
            "\u001b[?25hRequirement already satisfied: requests>=2.0 in /usr/local/lib/python3.6/dist-packages (from gym==0.9.4->-r requirements.txt (line 1)) (2.21.0)\n",
            "Requirement already satisfied: six in /usr/local/lib/python3.6/dist-packages (from gym==0.9.4->-r requirements.txt (line 1)) (1.12.0)\n",
            "Requirement already satisfied: pyglet>=1.2.0 in /usr/local/lib/python3.6/dist-packages (from gym==0.9.4->-r requirements.txt (line 1)) (1.4.4)\n",
            "Requirement already satisfied: pandas>=0.23.4 in /usr/local/lib/python3.6/dist-packages (from nevergrad->-r requirements.txt (line 8)) (0.24.2)\n",
            "Collecting bayesian-optimization>=1.0.1 (from nevergrad->-r requirements.txt (line 8))\n",
            "  Downloading https://files.pythonhosted.org/packages/72/0c/173ac467d0a53e33e41b521e4ceba74a8ac7c7873d7b857a8fbdca88302d/bayesian-optimization-1.0.1.tar.gz\n",
            "Collecting typing-extensions>=3.6.6 (from nevergrad->-r requirements.txt (line 8))\n",
            "  Downloading https://files.pythonhosted.org/packages/27/aa/bd1442cfb0224da1b671ab334d3b0a4302e4161ea916e28904ff9618d471/typing_extensions-3.7.4-py3-none-any.whl\n",
            "Requirement already satisfied: urllib3<1.25,>=1.21.1 in /usr/local/lib/python3.6/dist-packages (from requests>=2.0->gym==0.9.4->-r requirements.txt (line 1)) (1.24.3)\n",
            "Requirement already satisfied: certifi>=2017.4.17 in /usr/local/lib/python3.6/dist-packages (from requests>=2.0->gym==0.9.4->-r requirements.txt (line 1)) (2019.9.11)\n",
            "Requirement already satisfied: chardet<3.1.0,>=3.0.2 in /usr/local/lib/python3.6/dist-packages (from requests>=2.0->gym==0.9.4->-r requirements.txt (line 1)) (3.0.4)\n",
            "Requirement already satisfied: idna<2.9,>=2.5 in /usr/local/lib/python3.6/dist-packages (from requests>=2.0->gym==0.9.4->-r requirements.txt (line 1)) (2.8)\n",
            "Requirement already satisfied: future in /usr/local/lib/python3.6/dist-packages (from pyglet>=1.2.0->gym==0.9.4->-r requirements.txt (line 1)) (0.16.0)\n",
            "Requirement already satisfied: pytz>=2011k in /usr/local/lib/python3.6/dist-packages (from pandas>=0.23.4->nevergrad->-r requirements.txt (line 8)) (2018.9)\n",
            "Requirement already satisfied: python-dateutil>=2.5.0 in /usr/local/lib/python3.6/dist-packages (from pandas>=0.23.4->nevergrad->-r requirements.txt (line 8)) (2.5.3)\n",
            "Requirement already satisfied: scipy>=0.14.0 in /usr/local/lib/python3.6/dist-packages (from bayesian-optimization>=1.0.1->nevergrad->-r requirements.txt (line 8)) (1.3.1)\n",
            "Requirement already satisfied: scikit-learn>=0.18.0 in /usr/local/lib/python3.6/dist-packages (from bayesian-optimization>=1.0.1->nevergrad->-r requirements.txt (line 8)) (0.21.3)\n",
            "Requirement already satisfied: joblib>=0.11 in /usr/local/lib/python3.6/dist-packages (from scikit-learn>=0.18.0->bayesian-optimization>=1.0.1->nevergrad->-r requirements.txt (line 8)) (0.14.0)\n",
            "Building wheels for collected packages: gym, pybullet, bayesian-optimization\n",
            "  Building wheel for gym (setup.py) ... \u001b[?25l\u001b[?25hdone\n",
            "  Created wheel for gym: filename=gym-0.9.4-cp36-none-any.whl size=215484 sha256=5692d13774170e9c26b354528d32aa10c2c9b526b0fb62b969ea514870edf921\n",
            "  Stored in directory: /root/.cache/pip/wheels/2f/ae/a0/126678adc5f1f8905309a4712ea29537999787f610edbcb0a4\n",
            "  Building wheel for pybullet (setup.py) ... \u001b[?25l\u001b[?25hdone\n",
            "  Created wheel for pybullet: filename=pybullet-1.6.3-cp36-cp36m-linux_x86_64.whl size=26924027 sha256=e7f2f566e34cd6e3bf94573b0e8eb835a0c233b3dc28ab98ada67b2db0e54a38\n",
            "  Stored in directory: /root/.cache/pip/wheels/58/78/7f/fb2809c07e1da5117eaff2ada2f093faa882ff4393d2e7bab6\n",
            "  Building wheel for bayesian-optimization (setup.py) ... \u001b[?25l\u001b[?25hdone\n",
            "  Created wheel for bayesian-optimization: filename=bayesian_optimization-1.0.1-cp36-none-any.whl size=10032 sha256=28aa9749424236a0677a7ca88009112e1ad2c030cca1f72324276c3307e7b2b1\n",
            "  Stored in directory: /root/.cache/pip/wheels/1d/0d/3b/6b9d4477a34b3905f246ff4e7acf6aafd4cc9b77d473629b77\n",
            "Successfully built gym pybullet bayesian-optimization\n",
            "\u001b[31mERROR: tensorflow 1.15.0rc3 has requirement numpy<2.0,>=1.16.0, but you'll have numpy 1.13.3 which is incompatible.\u001b[0m\n",
            "\u001b[31mERROR: stable-baselines 2.2.1 has requirement gym[atari,classic_control]>=0.10.9, but you'll have gym 0.9.4 which is incompatible.\u001b[0m\n",
            "\u001b[31mERROR: spacy 2.1.8 has requirement numpy>=1.15.0, but you'll have numpy 1.13.3 which is incompatible.\u001b[0m\n",
            "\u001b[31mERROR: pyarrow 0.14.1 has requirement numpy>=1.14, but you'll have numpy 1.13.3 which is incompatible.\u001b[0m\n",
            "\u001b[31mERROR: imgaug 0.2.9 has requirement numpy>=1.15.0, but you'll have numpy 1.13.3 which is incompatible.\u001b[0m\n",
            "\u001b[31mERROR: fastai 1.0.58 has requirement numpy>=1.15, but you'll have numpy 1.13.3 which is incompatible.\u001b[0m\n",
            "\u001b[31mERROR: dopamine-rl 1.0.5 has requirement gym>=0.10.5, but you'll have gym 0.9.4 which is incompatible.\u001b[0m\n",
            "\u001b[31mERROR: datascience 0.10.6 has requirement folium==0.2.1, but you'll have folium 0.8.3 which is incompatible.\u001b[0m\n",
            "\u001b[31mERROR: cvxpy 1.0.25 has requirement numpy>=1.15, but you'll have numpy 1.13.3 which is incompatible.\u001b[0m\n",
            "\u001b[31mERROR: blis 0.2.4 has requirement numpy>=1.15.0, but you'll have numpy 1.13.3 which is incompatible.\u001b[0m\n",
            "\u001b[31mERROR: albumentations 0.1.12 has requirement imgaug<0.2.7,>=0.2.5, but you'll have imgaug 0.2.9 which is incompatible.\u001b[0m\n",
            "\u001b[31mERROR: nevergrad 0.2.3 has requirement numpy>=1.15.0, but you'll have numpy 1.13.3 which is incompatible.\u001b[0m\n",
            "Installing collected packages: numpy, gym, cma, pybullet, box2d-py, roboschool, bayesian-optimization, typing-extensions, nevergrad\n",
            "  Found existing installation: numpy 1.16.5\n",
            "    Uninstalling numpy-1.16.5:\n",
            "      Successfully uninstalled numpy-1.16.5\n",
            "  Found existing installation: gym 0.10.11\n",
            "    Uninstalling gym-0.10.11:\n",
            "      Successfully uninstalled gym-0.10.11\n",
            "Successfully installed bayesian-optimization-1.0.1 box2d-py-2.3.8 cma-2.7.0 gym-0.9.4 nevergrad-0.2.3 numpy-1.13.3 pybullet-1.6.3 roboschool-1.0.49 typing-extensions-3.7.4\n"
          ],
          "name": "stdout"
        },
        {
          "output_type": "display_data",
          "data": {
            "application/vnd.colab-display-data+json": {
              "pip_warning": {
                "packages": [
                  "numpy"
                ]
              }
            }
          },
          "metadata": {
            "tags": []
          }
        }
      ]
    },
    {
      "cell_type": "code",
      "metadata": {
        "id": "saYtUkOzM0wD",
        "colab_type": "code",
        "colab": {}
      },
      "source": [
        "import numpy as np\n",
        "import matplotlib.pyplot as plt\n",
        "import cma\n",
        "from es import SimpleGA, CMAES, PEPG, OpenES, Nevergrad, PSO"
      ],
      "execution_count": 0,
      "outputs": []
    },
    {
      "cell_type": "code",
      "metadata": {
        "id": "O3jK-asDM4Yy",
        "colab_type": "code",
        "colab": {}
      },
      "source": [
        "# from https://github.com/CMA-ES/pycma/blob/master/cma/fitness_functions.py\n",
        "def rastrigin(x):\n",
        "  \"\"\"Rastrigin test objective function\"\"\"\n",
        "  x = np.copy(x)\n",
        "  #x -= 10.0\n",
        "  if not np.isscalar(x[0]):\n",
        "    N = len(x[0])\n",
        "    return -np.array([10 * N + sum(xi**2 - 10 * np.cos(2 * np.pi * xi)) for xi in x])\n",
        "  N = len(x)\n",
        "  return -(10 * N + sum(x**2 - 10 * np.cos(2 * np.pi * x)))\n",
        "\n",
        "def rastrigin_shifted(x):\n",
        "  \"\"\"Rastrigin test objective function, shifted by 10. units away from origin\"\"\"\n",
        "  x = np.copy(x)\n",
        "  x -= 10.0\n",
        "  if not np.isscalar(x[0]):\n",
        "    N = len(x[0])\n",
        "    return -np.array([10 * N + sum(xi**2 - 10 * np.cos(2 * np.pi * xi)) for xi in x])\n",
        "  N = len(x)\n",
        "  return -(10 * N + sum(x**2 - 10 * np.cos(2 * np.pi * x)))\n",
        "\n",
        "def schaffer(x):\n",
        "    \"\"\" Schaffer function\"\"\"\n",
        "    x = np.copy(x)\n",
        "    #x -= 10.0\n",
        "    N = len(x)\n",
        "    s = x[0:N - 1]**2 + x[1:N]**2\n",
        "    return -sum(s**0.25 * (np.sin(50 * s**0.1)**2 + 1))\n",
        "  \n",
        "def schaffer_shifted(x):\n",
        "    \"\"\" Schaffer function shifted\"\"\"\n",
        "    x = np.copy(x)\n",
        "    x -= 10.0\n",
        "    N = len(x)\n",
        "    s = x[0:N - 1]**2 + x[1:N]**2\n",
        "    return -sum(s**0.25 * (np.sin(50 * s**0.1)**2 + 1))\n",
        " "
      ],
      "execution_count": 0,
      "outputs": []
    },
    {
      "cell_type": "code",
      "metadata": {
        "id": "G9E2E8e0aex8",
        "colab_type": "code",
        "colab": {}
      },
      "source": [
        "fit_func = rastrigin"
      ],
      "execution_count": 0,
      "outputs": []
    },
    {
      "cell_type": "code",
      "metadata": {
        "id": "vj_M_wLeM8zK",
        "colab_type": "code",
        "colab": {}
      },
      "source": [
        "NPARAMS = 100        # make this a 100-dimensinal problem.\n",
        "NPOPULATION = 101    # use population size of 101.\n",
        "MAX_ITERATION = 5000 # run each solver for 5000 generations."
      ],
      "execution_count": 0,
      "outputs": []
    },
    {
      "cell_type": "code",
      "metadata": {
        "id": "L23tOZz8M9yZ",
        "colab_type": "code",
        "colab": {}
      },
      "source": [
        "# defines a function to use solver to solve fit_func\n",
        "def test_solver(solver):\n",
        "  history = []\n",
        "  for j in range(MAX_ITERATION):\n",
        "    solutions = solver.ask()\n",
        "    fitness_list = np.zeros(solver.popsize)\n",
        "    for i in range(solver.popsize):\n",
        "      fitness_list[i] = fit_func(solutions[i])\n",
        "    solver.tell(fitness_list)\n",
        "    result = solver.result() # first element is the best solution, second element is the best fitness\n",
        "    history.append(result[1])\n",
        "    if (j+1) % 100 == 0:\n",
        "      print(\"fitness at iteration\", (j+1), result[1])\n",
        "  print(\"local optimum discovered by solver:\\n\", result[0])\n",
        "  print(\"fitness score at this local optimum:\", result[1])\n",
        "  return history\n"
      ],
      "execution_count": 0,
      "outputs": []
    },
    {
      "cell_type": "code",
      "metadata": {
        "id": "LpFvvjTSNOv3",
        "colab_type": "code",
        "outputId": "90654e41-fd2f-467d-8337-b02f3107d219",
        "colab": {
          "base_uri": "https://localhost:8080/",
          "height": 53
        }
      },
      "source": [
        "x = np.zeros(NPARAMS) # 100-dimensional problem\n",
        "print(\"This is F(0):\")\n",
        "print(fit_func(x))"
      ],
      "execution_count": 60,
      "outputs": [
        {
          "output_type": "stream",
          "text": [
            "This is F(0):\n",
            "0.0\n"
          ],
          "name": "stdout"
        }
      ]
    },
    {
      "cell_type": "code",
      "metadata": {
        "id": "VTLmc0TVNYXC",
        "colab_type": "code",
        "outputId": "fb42938f-c047-4521-8561-0b04595e15b9",
        "colab": {
          "base_uri": "https://localhost:8080/",
          "height": 53
        }
      },
      "source": [
        "x = np.ones(NPARAMS)*10. # 100-dimensional problem\n",
        "print(\"This is F(10):\")\n",
        "print(fit_func(x))\n"
      ],
      "execution_count": 61,
      "outputs": [
        {
          "output_type": "stream",
          "text": [
            "This is F(10):\n",
            "-1.0\n"
          ],
          "name": "stdout"
        }
      ]
    },
    {
      "cell_type": "code",
      "metadata": {
        "id": "HmiOxKSZNa5i",
        "colab_type": "code",
        "colab": {}
      },
      "source": [
        "# defines genetic algorithm solver\n",
        "ga = SimpleGA(NPARAMS,                # number of model parameters\n",
        "               sigma_init=1,        # initial standard deviation\n",
        "               popsize=NPOPULATION,   # population size\n",
        "               elite_ratio=0.1,       # percentage of the elites\n",
        "               forget_best=False,     # forget the historical best elites\n",
        "               weight_decay=0.00,     # weight decay coefficient\n",
        "              )"
      ],
      "execution_count": 0,
      "outputs": []
    },
    {
      "cell_type": "code",
      "metadata": {
        "id": "JCEkvZ0PNcd1",
        "colab_type": "code",
        "outputId": "36c84ff4-7ea4-41a2-bfa1-3d2a79ebee6a",
        "colab": {
          "base_uri": "https://localhost:8080/",
          "height": 1000
        }
      },
      "source": [
        "ga_history = test_solver(ga)"
      ],
      "execution_count": 45,
      "outputs": [
        {
          "output_type": "stream",
          "text": [
            "fitness at iteration 100 -0.057187755059936035\n",
            "fitness at iteration 200 -0.05432018299845353\n",
            "fitness at iteration 300 -0.02306136642888501\n",
            "fitness at iteration 400 -0.02306136642888501\n",
            "fitness at iteration 500 -0.02075722466575049\n",
            "fitness at iteration 600 -0.02014010512518407\n",
            "fitness at iteration 700 -0.010374609626515763\n",
            "fitness at iteration 800 -0.010374609626515763\n",
            "fitness at iteration 900 -0.010374609626515763\n",
            "fitness at iteration 1000 -0.010374609626515763\n",
            "fitness at iteration 1100 -0.010374609626515763\n",
            "fitness at iteration 1200 -0.010374609626515763\n",
            "fitness at iteration 1300 -0.010374609626515763\n",
            "fitness at iteration 1400 -0.010374609626515763\n",
            "fitness at iteration 1500 -0.010374609626515763\n",
            "fitness at iteration 1600 -0.007503803525031935\n",
            "fitness at iteration 1700 -0.007503803525031935\n",
            "fitness at iteration 1800 -0.007503803525031935\n",
            "fitness at iteration 1900 -0.00508760881883376\n",
            "fitness at iteration 2000 -0.00508760881883376\n",
            "fitness at iteration 2100 -0.005001666760142542\n",
            "fitness at iteration 2200 -0.0016050074441649807\n",
            "fitness at iteration 2300 -0.0016050074441649807\n",
            "fitness at iteration 2400 -0.0016050074441649807\n",
            "fitness at iteration 2500 -0.0016050074441649807\n",
            "fitness at iteration 2600 -0.0016050074441649807\n",
            "fitness at iteration 2700 -0.0016050074441649807\n",
            "fitness at iteration 2800 -0.0016050074441649807\n",
            "fitness at iteration 2900 -0.0016050074441649807\n",
            "fitness at iteration 3000 -0.0016050074441649807\n",
            "fitness at iteration 3100 -0.0016050074441649807\n",
            "fitness at iteration 3200 -0.0016050074441649807\n",
            "fitness at iteration 3300 -0.0014755365149740386\n",
            "fitness at iteration 3400 -0.0010201906302714958\n",
            "fitness at iteration 3500 -0.0010201906302714958\n",
            "fitness at iteration 3600 -0.0010201906302714958\n",
            "fitness at iteration 3700 -0.00045637648598840114\n",
            "fitness at iteration 3800 -0.00045637648598840114\n",
            "fitness at iteration 3900 -0.00023741591603930327\n",
            "fitness at iteration 4000 -0.00023741591603930327\n",
            "fitness at iteration 4100 -0.00023741591603930327\n",
            "fitness at iteration 4200 -0.00023741591603930327\n",
            "fitness at iteration 4300 -0.00023741591603930327\n",
            "fitness at iteration 4400 -0.00023741591603930327\n",
            "fitness at iteration 4500 -0.00023741591603930327\n",
            "fitness at iteration 4600 -0.00023741591603930327\n",
            "fitness at iteration 4700 -0.00023741591603930327\n",
            "fitness at iteration 4800 -0.00023741591603930327\n",
            "fitness at iteration 4900 -0.00023741591603930327\n",
            "fitness at iteration 5000 -0.00015006514037276968\n",
            "local optimum discovered by solver:\n",
            " [-1.27681436e-04  7.88479373e-05 -9.07835098e+00 -7.23380172e-01\n",
            " -2.03176006e-01 -1.61701527e+00  4.82531815e+00  2.01286702e+00\n",
            " -1.56155047e+00  2.78681259e+00 -2.62676536e+00  3.12915303e+00\n",
            "  1.19543411e+00  3.43143492e+00 -4.27410181e+00 -3.52882378e-01\n",
            " -9.23662120e-01 -6.66005800e-01 -1.81051113e+00 -2.47330165e+00\n",
            " -1.17562420e+00 -1.31026822e+00 -1.06829539e+00  1.69496946e+00\n",
            "  1.62835795e+00 -3.62757655e-01 -7.56840584e-01  2.73846115e-01\n",
            " -4.01664614e-01  1.39422363e+00  1.20046243e+00  6.58343119e-01\n",
            "  8.01430384e-01  2.42305476e+00  4.27506061e-01  1.61892178e+00\n",
            " -6.97557767e-01 -4.35941461e+00 -1.88055870e+00 -8.37573300e-01\n",
            " -3.20280969e+00  1.11284040e+00 -4.15925925e-01  7.74403851e-01\n",
            " -1.65523451e+00 -4.07559974e-01 -3.93598945e+00  9.80513306e-01\n",
            "  1.64003608e+00 -2.25578838e+00  1.69192548e+00 -5.70425100e-01\n",
            " -8.18416718e-01 -4.52248127e+00  5.44039755e+00  4.22298191e+00\n",
            " -1.24880787e+00 -2.92668515e+00 -3.69841534e+00 -5.68600940e+00\n",
            " -3.40408941e+00  7.52011043e-01 -1.35545861e+00 -4.37320617e+00\n",
            " -2.61661214e+00  6.85333120e-01 -8.12789701e-01 -1.57583887e+00\n",
            " -1.53870880e+00 -3.20118263e+00  2.05952200e-01 -2.37132973e+00\n",
            "  8.20635523e-01 -1.79808268e+00 -3.73140686e+00 -3.86561417e+00\n",
            "  4.15200783e+00  2.63299503e+00  5.33625421e+00 -7.01758645e-02\n",
            " -3.96413721e+00 -3.91942293e+00  1.07751711e+00  3.79348533e+00\n",
            "  4.20480827e+00  1.24242217e+00 -6.58311503e+00  4.22211149e+00\n",
            " -2.60407104e+00 -2.98641032e-01  1.72943241e+00  2.58400424e-01\n",
            "  2.14391736e+00  4.84164240e+00  1.54297590e+00 -2.82423177e+00\n",
            " -2.81036502e+00  7.93548881e-01  1.64113989e-01 -4.33647844e+00]\n",
            "fitness score at this local optimum: -0.00015006514037276968\n"
          ],
          "name": "stdout"
        }
      ]
    },
    {
      "cell_type": "code",
      "metadata": {
        "id": "IvFqIuUlNpQ2",
        "colab_type": "code",
        "outputId": "0b624663-36e2-4be2-8d7a-6cc0f25466b3",
        "colab": {
          "base_uri": "https://localhost:8080/",
          "height": 35
        }
      },
      "source": [
        "# defines CMA-ES algorithm solver\n",
        "cmaes = CMAES(NPARAMS,\n",
        "              popsize=NPOPULATION,\n",
        "              weight_decay=0.0,\n",
        "              sigma_init = 1\n",
        "          )\n"
      ],
      "execution_count": 46,
      "outputs": [
        {
          "output_type": "stream",
          "text": [
            "(50_w,101)-aCMA-ES (mu_w=27.2,w_1=8%) in dimension 100 (seed=511715, Fri Oct 18 15:24:22 2019)\n"
          ],
          "name": "stdout"
        }
      ]
    },
    {
      "cell_type": "code",
      "metadata": {
        "id": "dkt0zOFDNtAn",
        "colab_type": "code",
        "outputId": "482646f3-aced-4c5e-c946-c03b2313a766",
        "colab": {
          "base_uri": "https://localhost:8080/",
          "height": 1000
        }
      },
      "source": [
        "cma_history = test_solver(cmaes)"
      ],
      "execution_count": 47,
      "outputs": [
        {
          "output_type": "stream",
          "text": [
            "fitness at iteration 100 -0.03558283737277914\n",
            "fitness at iteration 200 -0.03558283737277914\n",
            "fitness at iteration 300 -0.03558283737277914\n"
          ],
          "name": "stdout"
        },
        {
          "output_type": "stream",
          "text": [
            "/usr/local/lib/python3.6/dist-packages/cma/utilities/utils.py:333: UserWarning: flat fitness (f=1.000000, sigma=1.90e+00).\n",
            "                    For small sigma, this could indicate numerical convergence.\n",
            "                    Otherwise, please (re)consider how to compute the fitness more elaborately. (iteration=340)\n",
            "  ')')\n",
            "/usr/local/lib/python3.6/dist-packages/cma/utilities/utils.py:333: UserWarning: flat fitness (f=1.000000, sigma=2.12e+00).\n",
            "                    For small sigma, this could indicate numerical convergence.\n",
            "                    Otherwise, please (re)consider how to compute the fitness more elaborately. (iteration=353)\n",
            "  ')')\n",
            "/usr/local/lib/python3.6/dist-packages/cma/utilities/utils.py:333: UserWarning: flat fitness (f=1.000000, sigma=2.09e+00).\n",
            "                    For small sigma, this could indicate numerical convergence.\n",
            "                    Otherwise, please (re)consider how to compute the fitness more elaborately. (iteration=357)\n",
            "  ')')\n",
            "/usr/local/lib/python3.6/dist-packages/cma/utilities/utils.py:333: UserWarning: flat fitness (f=1.000000, sigma=2.06e+00).\n",
            "                    For small sigma, this could indicate numerical convergence.\n",
            "                    Otherwise, please (re)consider how to compute the fitness more elaborately. (iteration=372)\n",
            "  ')')\n",
            "/usr/local/lib/python3.6/dist-packages/cma/utilities/utils.py:333: UserWarning: flat fitness (f=1.000000, sigma=1.86e+00).\n",
            "                    For small sigma, this could indicate numerical convergence.\n",
            "                    Otherwise, please (re)consider how to compute the fitness more elaborately. (iteration=397)\n",
            "  ')')\n",
            "/usr/local/lib/python3.6/dist-packages/cma/utilities/utils.py:333: UserWarning: flat fitness (f=1.000000, sigma=1.91e+00).\n",
            "                    For small sigma, this could indicate numerical convergence.\n",
            "                    Otherwise, please (re)consider how to compute the fitness more elaborately. (iteration=400)\n",
            "  ')')\n"
          ],
          "name": "stderr"
        },
        {
          "output_type": "stream",
          "text": [
            "fitness at iteration 400 -0.03558283737277914\n"
          ],
          "name": "stdout"
        },
        {
          "output_type": "stream",
          "text": [
            "/usr/local/lib/python3.6/dist-packages/cma/utilities/utils.py:333: UserWarning: flat fitness (f=1.000000, sigma=2.04e+00).\n",
            "                    For small sigma, this could indicate numerical convergence.\n",
            "                    Otherwise, please (re)consider how to compute the fitness more elaborately. (iteration=404)\n",
            "  ')')\n"
          ],
          "name": "stderr"
        },
        {
          "output_type": "stream",
          "text": [
            "fitness at iteration 500 -0.03558283737277914\n"
          ],
          "name": "stdout"
        },
        {
          "output_type": "stream",
          "text": [
            "/usr/local/lib/python3.6/dist-packages/cma/utilities/utils.py:333: UserWarning: flat fitness (f=1.000000, sigma=1.65e+00).\n",
            "                    For small sigma, this could indicate numerical convergence.\n",
            "                    Otherwise, please (re)consider how to compute the fitness more elaborately. (iteration=510)\n",
            "  ')')\n",
            "/usr/local/lib/python3.6/dist-packages/cma/utilities/utils.py:333: UserWarning: flat fitness (f=1.000000, sigma=1.63e+00).\n",
            "                    For small sigma, this could indicate numerical convergence.\n",
            "                    Otherwise, please (re)consider how to compute the fitness more elaborately. (iteration=511)\n",
            "  ')')\n",
            "/usr/local/lib/python3.6/dist-packages/cma/utilities/utils.py:333: UserWarning: flat fitness (f=1.000000, sigma=1.66e+00).\n",
            "                    For small sigma, this could indicate numerical convergence.\n",
            "                    Otherwise, please (re)consider how to compute the fitness more elaborately. (iteration=529)\n",
            "  ')')\n"
          ],
          "name": "stderr"
        },
        {
          "output_type": "stream",
          "text": [
            "fitness at iteration 600 -0.03558283737277914\n"
          ],
          "name": "stdout"
        },
        {
          "output_type": "stream",
          "text": [
            "/usr/local/lib/python3.6/dist-packages/cma/utilities/utils.py:333: UserWarning: flat fitness (f=1.000000, sigma=2.26e+00).\n",
            "                    For small sigma, this could indicate numerical convergence.\n",
            "                    Otherwise, please (re)consider how to compute the fitness more elaborately. (iteration=655)\n",
            "  ')')\n",
            "/usr/local/lib/python3.6/dist-packages/cma/utilities/utils.py:333: UserWarning: flat fitness (f=1.000000, sigma=1.99e+00).\n",
            "                    For small sigma, this could indicate numerical convergence.\n",
            "                    Otherwise, please (re)consider how to compute the fitness more elaborately. (iteration=662)\n",
            "  ')')\n",
            "/usr/local/lib/python3.6/dist-packages/cma/utilities/utils.py:333: UserWarning: flat fitness (f=1.000000, sigma=1.93e+00).\n",
            "                    For small sigma, this could indicate numerical convergence.\n",
            "                    Otherwise, please (re)consider how to compute the fitness more elaborately. (iteration=684)\n",
            "  ')')\n"
          ],
          "name": "stderr"
        },
        {
          "output_type": "stream",
          "text": [
            "fitness at iteration 700 -0.03558283737277914\n"
          ],
          "name": "stdout"
        },
        {
          "output_type": "stream",
          "text": [
            "/usr/local/lib/python3.6/dist-packages/cma/utilities/utils.py:333: UserWarning: flat fitness (f=1.000000, sigma=1.98e+00).\n",
            "                    For small sigma, this could indicate numerical convergence.\n",
            "                    Otherwise, please (re)consider how to compute the fitness more elaborately. (iteration=714)\n",
            "  ')')\n",
            "/usr/local/lib/python3.6/dist-packages/cma/utilities/utils.py:333: UserWarning: flat fitness (f=1.000000, sigma=1.96e+00).\n",
            "                    For small sigma, this could indicate numerical convergence.\n",
            "                    Otherwise, please (re)consider how to compute the fitness more elaborately. (iteration=745)\n",
            "  ')')\n",
            "/usr/local/lib/python3.6/dist-packages/cma/utilities/utils.py:333: UserWarning: flat fitness (f=1.000000, sigma=1.95e+00).\n",
            "                    For small sigma, this could indicate numerical convergence.\n",
            "                    Otherwise, please (re)consider how to compute the fitness more elaborately. (iteration=747)\n",
            "  ')')\n",
            "/usr/local/lib/python3.6/dist-packages/cma/utilities/utils.py:333: UserWarning: flat fitness (f=1.000000, sigma=2.15e+00).\n",
            "                    For small sigma, this could indicate numerical convergence.\n",
            "                    Otherwise, please (re)consider how to compute the fitness more elaborately. (iteration=773)\n",
            "  ')')\n",
            "/usr/local/lib/python3.6/dist-packages/cma/utilities/utils.py:333: UserWarning: flat fitness (f=1.000000, sigma=2.26e+00).\n",
            "                    For small sigma, this could indicate numerical convergence.\n",
            "                    Otherwise, please (re)consider how to compute the fitness more elaborately. (iteration=776)\n",
            "  ')')\n",
            "/usr/local/lib/python3.6/dist-packages/cma/utilities/utils.py:333: UserWarning: flat fitness (f=1.000000, sigma=2.23e+00).\n",
            "                    For small sigma, this could indicate numerical convergence.\n",
            "                    Otherwise, please (re)consider how to compute the fitness more elaborately. (iteration=778)\n",
            "  ')')\n",
            "/usr/local/lib/python3.6/dist-packages/cma/utilities/utils.py:333: UserWarning: flat fitness (f=1.000000, sigma=2.20e+00).\n",
            "                    For small sigma, this could indicate numerical convergence.\n",
            "                    Otherwise, please (re)consider how to compute the fitness more elaborately. (iteration=779)\n",
            "  ')')\n",
            "/usr/local/lib/python3.6/dist-packages/cma/utilities/utils.py:333: UserWarning: flat fitness (f=1.000000, sigma=2.22e+00).\n",
            "                    For small sigma, this could indicate numerical convergence.\n",
            "                    Otherwise, please (re)consider how to compute the fitness more elaborately. (iteration=781)\n",
            "  ')')\n",
            "/usr/local/lib/python3.6/dist-packages/cma/utilities/utils.py:333: UserWarning: flat fitness (f=1.000000, sigma=2.22e+00).\n",
            "                    For small sigma, this could indicate numerical convergence.\n",
            "                    Otherwise, please (re)consider how to compute the fitness more elaborately. (iteration=782)\n",
            "  ')')\n",
            "/usr/local/lib/python3.6/dist-packages/cma/utilities/utils.py:333: UserWarning: flat fitness (f=1.000000, sigma=2.24e+00).\n",
            "                    For small sigma, this could indicate numerical convergence.\n",
            "                    Otherwise, please (re)consider how to compute the fitness more elaborately. (iteration=783)\n",
            "  ')')\n",
            "/usr/local/lib/python3.6/dist-packages/cma/utilities/utils.py:333: UserWarning: flat fitness (f=1.000000, sigma=2.26e+00).\n",
            "                    For small sigma, this could indicate numerical convergence.\n",
            "                    Otherwise, please (re)consider how to compute the fitness more elaborately. (iteration=784)\n",
            "  ')')\n",
            "/usr/local/lib/python3.6/dist-packages/cma/utilities/utils.py:333: UserWarning: flat fitness (f=1.000000, sigma=2.27e+00).\n",
            "                    For small sigma, this could indicate numerical convergence.\n",
            "                    Otherwise, please (re)consider how to compute the fitness more elaborately. (iteration=785)\n",
            "  ')')\n",
            "/usr/local/lib/python3.6/dist-packages/cma/utilities/utils.py:333: UserWarning: flat fitness (f=1.000000, sigma=2.25e+00).\n",
            "                    For small sigma, this could indicate numerical convergence.\n",
            "                    Otherwise, please (re)consider how to compute the fitness more elaborately. (iteration=786)\n",
            "  ')')\n",
            "/usr/local/lib/python3.6/dist-packages/cma/utilities/utils.py:333: UserWarning: flat fitness (f=1.000000, sigma=2.24e+00).\n",
            "                    For small sigma, this could indicate numerical convergence.\n",
            "                    Otherwise, please (re)consider how to compute the fitness more elaborately. (iteration=788)\n",
            "  ')')\n",
            "/usr/local/lib/python3.6/dist-packages/cma/utilities/utils.py:333: UserWarning: flat fitness (f=1.000000, sigma=2.22e+00).\n",
            "                    For small sigma, this could indicate numerical convergence.\n",
            "                    Otherwise, please (re)consider how to compute the fitness more elaborately. (iteration=789)\n",
            "  ')')\n",
            "/usr/local/lib/python3.6/dist-packages/cma/utilities/utils.py:333: UserWarning: flat fitness (f=1.000000, sigma=2.19e+00).\n",
            "                    For small sigma, this could indicate numerical convergence.\n",
            "                    Otherwise, please (re)consider how to compute the fitness more elaborately. (iteration=790)\n",
            "  ')')\n",
            "/usr/local/lib/python3.6/dist-packages/cma/utilities/utils.py:333: UserWarning: flat fitness (f=1.000000, sigma=2.18e+00).\n",
            "                    For small sigma, this could indicate numerical convergence.\n",
            "                    Otherwise, please (re)consider how to compute the fitness more elaborately. (iteration=792)\n",
            "  ')')\n",
            "/usr/local/lib/python3.6/dist-packages/cma/utilities/utils.py:333: UserWarning: flat fitness (f=1.000000, sigma=2.16e+00).\n",
            "                    For small sigma, this could indicate numerical convergence.\n",
            "                    Otherwise, please (re)consider how to compute the fitness more elaborately. (iteration=794)\n",
            "  ')')\n",
            "/usr/local/lib/python3.6/dist-packages/cma/utilities/utils.py:333: UserWarning: flat fitness (f=1.000000, sigma=2.14e+00).\n",
            "                    For small sigma, this could indicate numerical convergence.\n",
            "                    Otherwise, please (re)consider how to compute the fitness more elaborately. (iteration=795)\n",
            "  ')')\n",
            "/usr/local/lib/python3.6/dist-packages/cma/utilities/utils.py:333: UserWarning: flat fitness (f=1.000000, sigma=2.15e+00).\n",
            "                    For small sigma, this could indicate numerical convergence.\n",
            "                    Otherwise, please (re)consider how to compute the fitness more elaborately. (iteration=796)\n",
            "  ')')\n",
            "/usr/local/lib/python3.6/dist-packages/cma/utilities/utils.py:333: UserWarning: flat fitness (f=1.000000, sigma=2.13e+00).\n",
            "                    For small sigma, this could indicate numerical convergence.\n",
            "                    Otherwise, please (re)consider how to compute the fitness more elaborately. (iteration=798)\n",
            "  ')')\n",
            "/usr/local/lib/python3.6/dist-packages/cma/utilities/utils.py:333: UserWarning: flat fitness (f=1.000000, sigma=2.11e+00).\n",
            "                    For small sigma, this could indicate numerical convergence.\n",
            "                    Otherwise, please (re)consider how to compute the fitness more elaborately. (iteration=799)\n",
            "  ')')\n",
            "/usr/local/lib/python3.6/dist-packages/cma/utilities/utils.py:333: UserWarning: flat fitness (f=1.000000, sigma=2.08e+00).\n",
            "                    For small sigma, this could indicate numerical convergence.\n",
            "                    Otherwise, please (re)consider how to compute the fitness more elaborately. (iteration=800)\n",
            "  ')')\n"
          ],
          "name": "stderr"
        },
        {
          "output_type": "stream",
          "text": [
            "fitness at iteration 800 -0.03558283737277914\n"
          ],
          "name": "stdout"
        },
        {
          "output_type": "stream",
          "text": [
            "/usr/local/lib/python3.6/dist-packages/cma/utilities/utils.py:333: UserWarning: flat fitness (f=1.000000, sigma=2.06e+00).\n",
            "                    For small sigma, this could indicate numerical convergence.\n",
            "                    Otherwise, please (re)consider how to compute the fitness more elaborately. (iteration=801)\n",
            "  ')')\n",
            "/usr/local/lib/python3.6/dist-packages/cma/utilities/utils.py:333: UserWarning: flat fitness (f=1.000000, sigma=2.07e+00).\n",
            "                    For small sigma, this could indicate numerical convergence.\n",
            "                    Otherwise, please (re)consider how to compute the fitness more elaborately. (iteration=803)\n",
            "  ')')\n",
            "/usr/local/lib/python3.6/dist-packages/cma/utilities/utils.py:333: UserWarning: flat fitness (f=1.000000, sigma=2.06e+00).\n",
            "                    For small sigma, this could indicate numerical convergence.\n",
            "                    Otherwise, please (re)consider how to compute the fitness more elaborately. (iteration=804)\n",
            "  ')')\n",
            "/usr/local/lib/python3.6/dist-packages/cma/utilities/utils.py:333: UserWarning: flat fitness (f=1.000000, sigma=2.04e+00).\n",
            "                    For small sigma, this could indicate numerical convergence.\n",
            "                    Otherwise, please (re)consider how to compute the fitness more elaborately. (iteration=805)\n",
            "  ')')\n",
            "/usr/local/lib/python3.6/dist-packages/cma/utilities/utils.py:333: UserWarning: flat fitness (f=1.000000, sigma=2.05e+00).\n",
            "                    For small sigma, this could indicate numerical convergence.\n",
            "                    Otherwise, please (re)consider how to compute the fitness more elaborately. (iteration=806)\n",
            "  ')')\n",
            "/usr/local/lib/python3.6/dist-packages/cma/utilities/utils.py:333: UserWarning: flat fitness (f=1.000000, sigma=2.03e+00).\n",
            "                    For small sigma, this could indicate numerical convergence.\n",
            "                    Otherwise, please (re)consider how to compute the fitness more elaborately. (iteration=807)\n",
            "  ')')\n",
            "/usr/local/lib/python3.6/dist-packages/cma/utilities/utils.py:333: UserWarning: flat fitness (f=1.000000, sigma=2.03e+00).\n",
            "                    For small sigma, this could indicate numerical convergence.\n",
            "                    Otherwise, please (re)consider how to compute the fitness more elaborately. (iteration=809)\n",
            "  ')')\n",
            "/usr/local/lib/python3.6/dist-packages/cma/utilities/utils.py:333: UserWarning: flat fitness (f=1.000000, sigma=2.03e+00).\n",
            "                    For small sigma, this could indicate numerical convergence.\n",
            "                    Otherwise, please (re)consider how to compute the fitness more elaborately. (iteration=811)\n",
            "  ')')\n",
            "/usr/local/lib/python3.6/dist-packages/cma/utilities/utils.py:333: UserWarning: flat fitness (f=1.000000, sigma=2.05e+00).\n",
            "                    For small sigma, this could indicate numerical convergence.\n",
            "                    Otherwise, please (re)consider how to compute the fitness more elaborately. (iteration=812)\n",
            "  ')')\n",
            "/usr/local/lib/python3.6/dist-packages/cma/utilities/utils.py:333: UserWarning: flat fitness (f=1.000000, sigma=2.09e+00).\n",
            "                    For small sigma, this could indicate numerical convergence.\n",
            "                    Otherwise, please (re)consider how to compute the fitness more elaborately. (iteration=813)\n",
            "  ')')\n",
            "/usr/local/lib/python3.6/dist-packages/cma/utilities/utils.py:333: UserWarning: flat fitness (f=1.000000, sigma=2.13e+00).\n",
            "                    For small sigma, this could indicate numerical convergence.\n",
            "                    Otherwise, please (re)consider how to compute the fitness more elaborately. (iteration=814)\n",
            "  ')')\n",
            "/usr/local/lib/python3.6/dist-packages/cma/utilities/utils.py:333: UserWarning: flat fitness (f=1.000000, sigma=2.16e+00).\n",
            "                    For small sigma, this could indicate numerical convergence.\n",
            "                    Otherwise, please (re)consider how to compute the fitness more elaborately. (iteration=815)\n",
            "  ')')\n",
            "/usr/local/lib/python3.6/dist-packages/cma/utilities/utils.py:333: UserWarning: flat fitness (f=1.000000, sigma=2.15e+00).\n",
            "                    For small sigma, this could indicate numerical convergence.\n",
            "                    Otherwise, please (re)consider how to compute the fitness more elaborately. (iteration=816)\n",
            "  ')')\n",
            "/usr/local/lib/python3.6/dist-packages/cma/utilities/utils.py:333: UserWarning: flat fitness (f=1.000000, sigma=2.11e+00).\n",
            "                    For small sigma, this could indicate numerical convergence.\n",
            "                    Otherwise, please (re)consider how to compute the fitness more elaborately. (iteration=817)\n",
            "  ')')\n",
            "/usr/local/lib/python3.6/dist-packages/cma/utilities/utils.py:333: UserWarning: flat fitness (f=1.000000, sigma=2.07e+00).\n",
            "                    For small sigma, this could indicate numerical convergence.\n",
            "                    Otherwise, please (re)consider how to compute the fitness more elaborately. (iteration=818)\n",
            "  ')')\n",
            "/usr/local/lib/python3.6/dist-packages/cma/utilities/utils.py:333: UserWarning: flat fitness (f=1.000000, sigma=2.05e+00).\n",
            "                    For small sigma, this could indicate numerical convergence.\n",
            "                    Otherwise, please (re)consider how to compute the fitness more elaborately. (iteration=819)\n",
            "  ')')\n",
            "/usr/local/lib/python3.6/dist-packages/cma/utilities/utils.py:333: UserWarning: flat fitness (f=1.000000, sigma=2.04e+00).\n",
            "                    For small sigma, this could indicate numerical convergence.\n",
            "                    Otherwise, please (re)consider how to compute the fitness more elaborately. (iteration=820)\n",
            "  ')')\n",
            "/usr/local/lib/python3.6/dist-packages/cma/utilities/utils.py:333: UserWarning: flat fitness (f=1.000000, sigma=2.03e+00).\n",
            "                    For small sigma, this could indicate numerical convergence.\n",
            "                    Otherwise, please (re)consider how to compute the fitness more elaborately. (iteration=821)\n",
            "  ')')\n",
            "/usr/local/lib/python3.6/dist-packages/cma/utilities/utils.py:333: UserWarning: flat fitness (f=1.000000, sigma=2.04e+00).\n",
            "                    For small sigma, this could indicate numerical convergence.\n",
            "                    Otherwise, please (re)consider how to compute the fitness more elaborately. (iteration=822)\n",
            "  ')')\n",
            "/usr/local/lib/python3.6/dist-packages/cma/utilities/utils.py:333: UserWarning: flat fitness (f=1.000000, sigma=2.03e+00).\n",
            "                    For small sigma, this could indicate numerical convergence.\n",
            "                    Otherwise, please (re)consider how to compute the fitness more elaborately. (iteration=823)\n",
            "  ')')\n",
            "/usr/local/lib/python3.6/dist-packages/cma/utilities/utils.py:333: UserWarning: flat fitness (f=1.000000, sigma=2.04e+00).\n",
            "                    For small sigma, this could indicate numerical convergence.\n",
            "                    Otherwise, please (re)consider how to compute the fitness more elaborately. (iteration=824)\n",
            "  ')')\n",
            "/usr/local/lib/python3.6/dist-packages/cma/utilities/utils.py:333: UserWarning: flat fitness (f=1.000000, sigma=2.02e+00).\n",
            "                    For small sigma, this could indicate numerical convergence.\n",
            "                    Otherwise, please (re)consider how to compute the fitness more elaborately. (iteration=826)\n",
            "  ')')\n",
            "/usr/local/lib/python3.6/dist-packages/cma/utilities/utils.py:333: UserWarning: flat fitness (f=1.000000, sigma=2.01e+00).\n",
            "                    For small sigma, this could indicate numerical convergence.\n",
            "                    Otherwise, please (re)consider how to compute the fitness more elaborately. (iteration=827)\n",
            "  ')')\n",
            "/usr/local/lib/python3.6/dist-packages/cma/utilities/utils.py:333: UserWarning: flat fitness (f=1.000000, sigma=2.01e+00).\n",
            "                    For small sigma, this could indicate numerical convergence.\n",
            "                    Otherwise, please (re)consider how to compute the fitness more elaborately. (iteration=828)\n",
            "  ')')\n",
            "/usr/local/lib/python3.6/dist-packages/cma/utilities/utils.py:333: UserWarning: flat fitness (f=1.000000, sigma=2.01e+00).\n",
            "                    For small sigma, this could indicate numerical convergence.\n",
            "                    Otherwise, please (re)consider how to compute the fitness more elaborately. (iteration=829)\n",
            "  ')')\n",
            "/usr/local/lib/python3.6/dist-packages/cma/utilities/utils.py:333: UserWarning: flat fitness (f=1.000000, sigma=1.98e+00).\n",
            "                    For small sigma, this could indicate numerical convergence.\n",
            "                    Otherwise, please (re)consider how to compute the fitness more elaborately. (iteration=831)\n",
            "  ')')\n",
            "/usr/local/lib/python3.6/dist-packages/cma/utilities/utils.py:333: UserWarning: flat fitness (f=1.000000, sigma=1.98e+00).\n",
            "                    For small sigma, this could indicate numerical convergence.\n",
            "                    Otherwise, please (re)consider how to compute the fitness more elaborately. (iteration=832)\n",
            "  ')')\n",
            "/usr/local/lib/python3.6/dist-packages/cma/utilities/utils.py:333: UserWarning: flat fitness (f=1.000000, sigma=2.07e+00).\n",
            "                    For small sigma, this could indicate numerical convergence.\n",
            "                    Otherwise, please (re)consider how to compute the fitness more elaborately. (iteration=840)\n",
            "  ')')\n",
            "/usr/local/lib/python3.6/dist-packages/cma/utilities/utils.py:333: UserWarning: flat fitness (f=1.000000, sigma=1.96e+00).\n",
            "                    For small sigma, this could indicate numerical convergence.\n",
            "                    Otherwise, please (re)consider how to compute the fitness more elaborately. (iteration=843)\n",
            "  ')')\n",
            "/usr/local/lib/python3.6/dist-packages/cma/utilities/utils.py:333: UserWarning: flat fitness (f=1.000000, sigma=1.82e+00).\n",
            "                    For small sigma, this could indicate numerical convergence.\n",
            "                    Otherwise, please (re)consider how to compute the fitness more elaborately. (iteration=850)\n",
            "  ')')\n",
            "/usr/local/lib/python3.6/dist-packages/cma/utilities/utils.py:333: UserWarning: flat fitness (f=1.000000, sigma=1.85e+00).\n",
            "                    For small sigma, this could indicate numerical convergence.\n",
            "                    Otherwise, please (re)consider how to compute the fitness more elaborately. (iteration=851)\n",
            "  ')')\n",
            "/usr/local/lib/python3.6/dist-packages/cma/utilities/utils.py:333: UserWarning: flat fitness (f=1.000000, sigma=1.80e+00).\n",
            "                    For small sigma, this could indicate numerical convergence.\n",
            "                    Otherwise, please (re)consider how to compute the fitness more elaborately. (iteration=857)\n",
            "  ')')\n",
            "/usr/local/lib/python3.6/dist-packages/cma/utilities/utils.py:333: UserWarning: flat fitness (f=1.000000, sigma=1.74e+00).\n",
            "                    For small sigma, this could indicate numerical convergence.\n",
            "                    Otherwise, please (re)consider how to compute the fitness more elaborately. (iteration=860)\n",
            "  ')')\n",
            "/usr/local/lib/python3.6/dist-packages/cma/utilities/utils.py:333: UserWarning: flat fitness (f=1.000000, sigma=1.69e+00).\n",
            "                    For small sigma, this could indicate numerical convergence.\n",
            "                    Otherwise, please (re)consider how to compute the fitness more elaborately. (iteration=862)\n",
            "  ')')\n",
            "/usr/local/lib/python3.6/dist-packages/cma/utilities/utils.py:333: UserWarning: flat fitness (f=1.000000, sigma=1.66e+00).\n",
            "                    For small sigma, this could indicate numerical convergence.\n",
            "                    Otherwise, please (re)consider how to compute the fitness more elaborately. (iteration=863)\n",
            "  ')')\n",
            "/usr/local/lib/python3.6/dist-packages/cma/utilities/utils.py:333: UserWarning: flat fitness (f=1.000000, sigma=1.64e+00).\n",
            "                    For small sigma, this could indicate numerical convergence.\n",
            "                    Otherwise, please (re)consider how to compute the fitness more elaborately. (iteration=864)\n",
            "  ')')\n",
            "/usr/local/lib/python3.6/dist-packages/cma/utilities/utils.py:333: UserWarning: flat fitness (f=1.000000, sigma=1.63e+00).\n",
            "                    For small sigma, this could indicate numerical convergence.\n",
            "                    Otherwise, please (re)consider how to compute the fitness more elaborately. (iteration=865)\n",
            "  ')')\n",
            "/usr/local/lib/python3.6/dist-packages/cma/utilities/utils.py:333: UserWarning: flat fitness (f=1.000000, sigma=1.61e+00).\n",
            "                    For small sigma, this could indicate numerical convergence.\n",
            "                    Otherwise, please (re)consider how to compute the fitness more elaborately. (iteration=868)\n",
            "  ')')\n",
            "/usr/local/lib/python3.6/dist-packages/cma/utilities/utils.py:333: UserWarning: flat fitness (f=1.000000, sigma=1.69e+00).\n",
            "                    For small sigma, this could indicate numerical convergence.\n",
            "                    Otherwise, please (re)consider how to compute the fitness more elaborately. (iteration=882)\n",
            "  ')')\n"
          ],
          "name": "stderr"
        },
        {
          "output_type": "stream",
          "text": [
            "fitness at iteration 900 -0.03558283737277914\n"
          ],
          "name": "stdout"
        },
        {
          "output_type": "stream",
          "text": [
            "/usr/local/lib/python3.6/dist-packages/cma/utilities/utils.py:333: UserWarning: flat fitness (f=1.000000, sigma=1.31e+00).\n",
            "                    For small sigma, this could indicate numerical convergence.\n",
            "                    Otherwise, please (re)consider how to compute the fitness more elaborately. (iteration=998)\n",
            "  ')')\n"
          ],
          "name": "stderr"
        },
        {
          "output_type": "stream",
          "text": [
            "fitness at iteration 1000 -0.03558283737277914\n"
          ],
          "name": "stdout"
        },
        {
          "output_type": "stream",
          "text": [
            "/usr/local/lib/python3.6/dist-packages/cma/utilities/utils.py:333: UserWarning: flat fitness (f=1.000000, sigma=1.09e+00).\n",
            "                    For small sigma, this could indicate numerical convergence.\n",
            "                    Otherwise, please (re)consider how to compute the fitness more elaborately. (iteration=1035)\n",
            "  ')')\n",
            "/usr/local/lib/python3.6/dist-packages/cma/utilities/utils.py:333: UserWarning: flat fitness (f=1.000000, sigma=1.08e+00).\n",
            "                    For small sigma, this could indicate numerical convergence.\n",
            "                    Otherwise, please (re)consider how to compute the fitness more elaborately. (iteration=1080)\n",
            "  ')')\n"
          ],
          "name": "stderr"
        },
        {
          "output_type": "stream",
          "text": [
            "fitness at iteration 1100 -0.03558283737277914\n"
          ],
          "name": "stdout"
        },
        {
          "output_type": "stream",
          "text": [
            "/usr/local/lib/python3.6/dist-packages/cma/utilities/utils.py:333: UserWarning: flat fitness (f=1.000000, sigma=1.30e+00).\n",
            "                    For small sigma, this could indicate numerical convergence.\n",
            "                    Otherwise, please (re)consider how to compute the fitness more elaborately. (iteration=1131)\n",
            "  ')')\n",
            "/usr/local/lib/python3.6/dist-packages/cma/utilities/utils.py:333: UserWarning: flat fitness (f=1.000000, sigma=1.42e+00).\n",
            "                    For small sigma, this could indicate numerical convergence.\n",
            "                    Otherwise, please (re)consider how to compute the fitness more elaborately. (iteration=1155)\n",
            "  ')')\n",
            "/usr/local/lib/python3.6/dist-packages/cma/utilities/utils.py:333: UserWarning: flat fitness (f=1.000000, sigma=1.29e+00).\n",
            "                    For small sigma, this could indicate numerical convergence.\n",
            "                    Otherwise, please (re)consider how to compute the fitness more elaborately. (iteration=1186)\n",
            "  ')')\n",
            "/usr/local/lib/python3.6/dist-packages/cma/utilities/utils.py:333: UserWarning: flat fitness (f=1.000000, sigma=1.33e+00).\n",
            "                    For small sigma, this could indicate numerical convergence.\n",
            "                    Otherwise, please (re)consider how to compute the fitness more elaborately. (iteration=1197)\n",
            "  ')')\n",
            "/usr/local/lib/python3.6/dist-packages/cma/utilities/utils.py:333: UserWarning: flat fitness (f=1.000000, sigma=1.30e+00).\n",
            "                    For small sigma, this could indicate numerical convergence.\n",
            "                    Otherwise, please (re)consider how to compute the fitness more elaborately. (iteration=1198)\n",
            "  ')')\n",
            "/usr/local/lib/python3.6/dist-packages/cma/utilities/utils.py:333: UserWarning: flat fitness (f=1.000000, sigma=1.28e+00).\n",
            "                    For small sigma, this could indicate numerical convergence.\n",
            "                    Otherwise, please (re)consider how to compute the fitness more elaborately. (iteration=1199)\n",
            "  ')')\n",
            "/usr/local/lib/python3.6/dist-packages/cma/utilities/utils.py:333: UserWarning: flat fitness (f=1.000000, sigma=1.27e+00).\n",
            "                    For small sigma, this could indicate numerical convergence.\n",
            "                    Otherwise, please (re)consider how to compute the fitness more elaborately. (iteration=1200)\n",
            "  ')')\n"
          ],
          "name": "stderr"
        },
        {
          "output_type": "stream",
          "text": [
            "fitness at iteration 1200 -0.03558283737277914\n",
            "fitness at iteration 1300 -0.03207335858253722\n"
          ],
          "name": "stdout"
        },
        {
          "output_type": "stream",
          "text": [
            "/usr/local/lib/python3.6/dist-packages/cma/utilities/utils.py:333: UserWarning: flat fitness (f=1.000000, sigma=1.15e+00).\n",
            "                    For small sigma, this could indicate numerical convergence.\n",
            "                    Otherwise, please (re)consider how to compute the fitness more elaborately. (iteration=1306)\n",
            "  ')')\n",
            "/usr/local/lib/python3.6/dist-packages/cma/utilities/utils.py:333: UserWarning: flat fitness (f=1.000000, sigma=1.15e+00).\n",
            "                    For small sigma, this could indicate numerical convergence.\n",
            "                    Otherwise, please (re)consider how to compute the fitness more elaborately. (iteration=1307)\n",
            "  ')')\n",
            "/usr/local/lib/python3.6/dist-packages/cma/utilities/utils.py:333: UserWarning: flat fitness (f=1.000000, sigma=1.16e+00).\n",
            "                    For small sigma, this could indicate numerical convergence.\n",
            "                    Otherwise, please (re)consider how to compute the fitness more elaborately. (iteration=1328)\n",
            "  ')')\n",
            "/usr/local/lib/python3.6/dist-packages/cma/utilities/utils.py:333: UserWarning: flat fitness (f=1.000000, sigma=1.21e+00).\n",
            "                    For small sigma, this could indicate numerical convergence.\n",
            "                    Otherwise, please (re)consider how to compute the fitness more elaborately. (iteration=1347)\n",
            "  ')')\n"
          ],
          "name": "stderr"
        },
        {
          "output_type": "stream",
          "text": [
            "fitness at iteration 1400 -0.03207335858253722\n",
            "fitness at iteration 1500 -0.03207335858253722\n",
            "fitness at iteration 1600 -0.014904235028339083\n",
            "fitness at iteration 1700 -0.004849306956693253\n",
            "fitness at iteration 1800 -0.004849306956693253\n",
            "fitness at iteration 1900 -0.004849306956693253\n",
            "fitness at iteration 2000 -0.004849306956693253\n",
            "fitness at iteration 2100 -0.004849306956693253\n",
            "fitness at iteration 2200 -0.004849306956693253\n",
            "fitness at iteration 2300 -0.004849306956693253\n",
            "fitness at iteration 2400 -0.004849306956693253\n",
            "fitness at iteration 2500 -0.004849306956693253\n",
            "fitness at iteration 2600 -0.004849306956693253\n",
            "fitness at iteration 2700 -0.004849306956693253\n",
            "fitness at iteration 2800 -0.004849306956693253\n",
            "fitness at iteration 2900 -0.004849306956693253\n",
            "fitness at iteration 3000 -0.004849306956693253\n",
            "fitness at iteration 3100 -0.004849306956693253\n",
            "fitness at iteration 3200 -0.004849306956693253\n",
            "fitness at iteration 3300 -0.004849306956693253\n",
            "fitness at iteration 3400 -0.004849306956693253\n",
            "fitness at iteration 3500 -0.004849306956693253\n",
            "fitness at iteration 3600 -0.004849306956693253\n",
            "fitness at iteration 3700 -0.004849306956693253\n",
            "fitness at iteration 3800 -0.004849306956693253\n",
            "fitness at iteration 3900 -0.004849306956693253\n",
            "fitness at iteration 4000 -0.004849306956693253\n",
            "fitness at iteration 4100 -0.004849306956693253\n",
            "fitness at iteration 4200 -0.004849306956693253\n",
            "fitness at iteration 4300 -0.004849306956693253\n",
            "fitness at iteration 4400 -0.004849306956693253\n",
            "fitness at iteration 4500 -0.004849306956693253\n",
            "fitness at iteration 4600 -0.004849306956693253\n",
            "fitness at iteration 4700 -0.004849306956693253\n",
            "fitness at iteration 4800 -0.004849306956693253\n",
            "fitness at iteration 4900 -0.004849306956693253\n",
            "fitness at iteration 5000 -0.004849306956693253\n",
            "local optimum discovered by solver:\n",
            " [-7.22429984e-04 -4.79519268e-03 -9.77993531e+00  8.69134093e+00\n",
            " -1.27618893e+01  1.04142938e+00 -1.20527622e+01  2.90248257e+00\n",
            " -1.43870325e+01  9.80192238e+00 -9.69548319e+00 -6.19300686e+00\n",
            " -6.18487229e+00 -2.51993811e+00  8.59820009e+00  6.32305064e+00\n",
            "  1.62426584e+01 -7.67881555e+00 -7.94315528e+00  1.26997519e+01\n",
            " -1.71790096e+01  2.98244477e+00 -9.28947443e+00  4.46488115e-01\n",
            "  1.71266442e+01 -1.12828976e+01  2.15352219e+01 -1.96146015e+00\n",
            "  1.71041366e+01  4.04550805e+00 -6.82793865e+00  7.76934125e+00\n",
            " -1.55464750e+01 -1.10803910e+00 -6.27194706e+00  1.07028208e+01\n",
            " -3.13537466e+00 -4.81215855e+00 -4.62416590e+00 -2.03253907e+01\n",
            " -6.94228960e-01  4.55122422e+00 -2.06408969e+01  4.81544446e+00\n",
            " -7.07768555e+00 -1.48868106e+00 -1.02539559e+01  1.86168641e+00\n",
            " -1.35550527e+01  1.81101844e+01  7.82070066e-01 -2.84089151e+00\n",
            "  1.11396928e+01  2.96425770e-02  5.51518575e+00  9.32218174e+00\n",
            "  1.01594184e+01 -7.16184014e+00 -2.49779607e+00 -6.45920561e+00\n",
            "  2.65943033e+01  5.07181614e+00  3.79666959e+00  1.39880364e+01\n",
            " -1.26639437e+01 -6.47697201e+00  3.74467117e+00  6.34848822e+00\n",
            " -4.78045713e+00  1.45128858e+01  9.43693693e+00  5.30877284e+00\n",
            " -1.14832967e+01  2.19537423e+01 -4.12293806e+00 -8.70571472e+00\n",
            "  7.48598964e+00 -3.48025418e+00 -3.66564686e+00  1.56568867e+01\n",
            " -9.23981471e+00  8.22072792e+00  2.41282148e+01  1.02577709e+01\n",
            " -1.27604497e+01 -1.08404460e+01  7.57935756e+00 -1.02897577e+01\n",
            "  6.78520375e+00  8.07495245e+00  1.30601478e+01 -8.34193493e+00\n",
            "  1.35317680e+00  8.99621322e+00  3.74583513e+00 -2.22840005e+01\n",
            " -5.38978681e+00 -1.13695919e+00  3.53278850e+00 -1.16981924e+01]\n",
            "fitness score at this local optimum: -0.004849306956693253\n"
          ],
          "name": "stdout"
        }
      ]
    },
    {
      "cell_type": "code",
      "metadata": {
        "id": "_tenlnwpOW8a",
        "colab_type": "code",
        "colab": {}
      },
      "source": [
        "# defines OpenAI's ES algorithm solver. Note that we needed to anneal the sigma parameter\n",
        "oes = OpenES(NPARAMS,                  # number of model parameters\n",
        "            sigma_init=1,            # initial standard deviation\n",
        "            sigma_decay=0.999,         # don't anneal standard deviation\n",
        "            learning_rate=0.1,         # learning rate for standard deviation\n",
        "            learning_rate_decay = 1.0, # annealing the learning rate\n",
        "            popsize=NPOPULATION,       # population size\n",
        "            antithetic=False,          # whether to use antithetic sampling\n",
        "            weight_decay=0.00,         # weight decay coefficient\n",
        "            rank_fitness=False,        # use rank rather than fitness numbers\n",
        "            forget_best=False)"
      ],
      "execution_count": 0,
      "outputs": []
    },
    {
      "cell_type": "code",
      "metadata": {
        "id": "4OZFuV-ROY7a",
        "colab_type": "code",
        "outputId": "0afac1fe-1ee9-4d90-a926-f2aa34c0ee00",
        "colab": {
          "base_uri": "https://localhost:8080/",
          "height": 1000
        }
      },
      "source": [
        "oes_history = test_solver(oes)"
      ],
      "execution_count": 49,
      "outputs": [
        {
          "output_type": "stream",
          "text": [
            "fitness at iteration 100 -0.04337221044554901\n"
          ],
          "name": "stdout"
        },
        {
          "output_type": "stream",
          "text": [
            "/content/estool/es.py:602: RuntimeWarning: invalid value encountered in true_divide\n",
            "  normalized_reward = (reward - np.mean(reward)) / np.std(reward)\n"
          ],
          "name": "stderr"
        },
        {
          "output_type": "stream",
          "text": [
            "fitness at iteration 200 -0.02679473072171689\n",
            "fitness at iteration 300 -0.02679473072171689\n",
            "fitness at iteration 400 -0.02679473072171689\n",
            "fitness at iteration 500 -0.02679473072171689\n",
            "fitness at iteration 600 -0.02679473072171689\n",
            "fitness at iteration 700 -0.02679473072171689\n",
            "fitness at iteration 800 -0.02679473072171689\n",
            "fitness at iteration 900 -0.02679473072171689\n",
            "fitness at iteration 1000 -0.02679473072171689\n",
            "fitness at iteration 1100 -0.02679473072171689\n",
            "fitness at iteration 1200 -0.02679473072171689\n",
            "fitness at iteration 1300 -0.02679473072171689\n",
            "fitness at iteration 1400 -0.02679473072171689\n",
            "fitness at iteration 1500 -0.02679473072171689\n",
            "fitness at iteration 1600 -0.02679473072171689\n",
            "fitness at iteration 1700 -0.02679473072171689\n",
            "fitness at iteration 1800 -0.02679473072171689\n",
            "fitness at iteration 1900 -0.02679473072171689\n",
            "fitness at iteration 2000 -0.02679473072171689\n",
            "fitness at iteration 2100 -0.02679473072171689\n",
            "fitness at iteration 2200 -0.02679473072171689\n",
            "fitness at iteration 2300 -0.02679473072171689\n",
            "fitness at iteration 2400 -0.02679473072171689\n",
            "fitness at iteration 2500 -0.02679473072171689\n",
            "fitness at iteration 2600 -0.02679473072171689\n",
            "fitness at iteration 2700 -0.02679473072171689\n",
            "fitness at iteration 2800 -0.02679473072171689\n",
            "fitness at iteration 2900 -0.02679473072171689\n",
            "fitness at iteration 3000 -0.02679473072171689\n",
            "fitness at iteration 3100 -0.02679473072171689\n",
            "fitness at iteration 3200 -0.02679473072171689\n",
            "fitness at iteration 3300 -0.02679473072171689\n",
            "fitness at iteration 3400 -0.02679473072171689\n",
            "fitness at iteration 3500 -0.02679473072171689\n",
            "fitness at iteration 3600 -0.02679473072171689\n",
            "fitness at iteration 3700 -0.02679473072171689\n",
            "fitness at iteration 3800 -0.02679473072171689\n",
            "fitness at iteration 3900 -0.02679473072171689\n",
            "fitness at iteration 4000 -0.02679473072171689\n",
            "fitness at iteration 4100 -0.02679473072171689\n",
            "fitness at iteration 4200 -0.02679473072171689\n",
            "fitness at iteration 4300 -0.02679473072171689\n",
            "fitness at iteration 4400 -0.02679473072171689\n",
            "fitness at iteration 4500 -0.02679473072171689\n",
            "fitness at iteration 4600 -0.02679473072171689\n",
            "fitness at iteration 4700 -0.02679473072171689\n",
            "fitness at iteration 4800 -0.02679473072171689\n",
            "fitness at iteration 4900 -0.02679473072171689\n",
            "fitness at iteration 5000 -0.02679473072171689\n",
            "local optimum discovered by solver:\n",
            " [-0.0187589  -0.01913273  2.43634074 -2.66542519 -0.12429293 -2.16392372\n",
            " -2.78870977 -3.01349345 -2.03767348  2.61853925  0.0824815  -0.39136999\n",
            " -1.01301925  0.17662289 -0.07817041 -0.3650579  -1.80915711  0.88445385\n",
            " -0.66288352  1.65338583  0.92338182  0.25506055  3.80425768 -0.50889766\n",
            "  2.84684461 -1.28372797 -0.24420415  0.40525307  3.86482034 -1.63004145\n",
            " -0.35505225 -1.04696774  0.4947959  -0.81785914  2.28497058  1.35107368\n",
            " -1.48655196  3.31714903  0.13690915  0.5452098  -2.70158988  1.10334174\n",
            "  1.30435717  3.69222504 -2.2588937  -0.92311957  2.27906716 -1.37141042\n",
            "  0.681196   -0.82754996  1.21900387  1.02651055  0.6008528   0.76740716\n",
            "  1.56998822  0.64938372  0.43876428  1.27297313 -1.75584409  1.82064059\n",
            "  0.23937304 -0.08669568  1.47507682  0.05154862  1.55911746  0.64014177\n",
            " -0.24910001 -1.05519716 -0.45919972 -0.47301708 -1.44271445  0.02235797\n",
            " -0.29528386 -1.73619182  2.6300932  -2.50463628 -1.90798513 -0.14337464\n",
            "  3.39927585  0.56615317 -0.50984283 -0.96073722  1.09853916  2.01336944\n",
            "  1.2619352  -1.53192144  1.63482059  0.13355032  1.21949868  0.55661057\n",
            " -1.97252761  1.27551821  0.22395014 -2.81774009 -2.56983853  3.87538985\n",
            " -1.34839352  0.23634469 -1.83483502  2.03882256]\n",
            "fitness score at this local optimum: -0.02679473072171689\n"
          ],
          "name": "stdout"
        }
      ]
    },
    {
      "cell_type": "code",
      "metadata": {
        "id": "KhL7TovbOiIi",
        "colab_type": "code",
        "colab": {}
      },
      "source": [
        "pso = PSO(num_params = NPARAMS,\n",
        "          popsize = NPOPULATION,\n",
        "          sigma_init = 1,\n",
        "          weight_decay = 0.00)"
      ],
      "execution_count": 0,
      "outputs": []
    },
    {
      "cell_type": "code",
      "metadata": {
        "id": "61vbT9NnPS1C",
        "colab_type": "code",
        "outputId": "c8eca70c-52d9-4630-8458-917993532a47",
        "colab": {
          "base_uri": "https://localhost:8080/",
          "height": 408
        }
      },
      "source": [
        "pso_history = test_solver(pso)"
      ],
      "execution_count": 63,
      "outputs": [
        {
          "output_type": "stream",
          "text": [
            "fitness at iteration 100 -0.0004022871010416145\n",
            "fitness at iteration 200 -7.641622963399979e-08\n",
            "fitness at iteration 300 -4.671616087796055e-11\n",
            "fitness at iteration 400 -2.044872006537652e-14\n",
            "fitness at iteration 500 -5.220580322646311e-17\n"
          ],
          "name": "stdout"
        },
        {
          "output_type": "error",
          "ename": "AttributeError",
          "evalue": "ignored",
          "traceback": [
            "\u001b[0;31m---------------------------------------------------------------------------\u001b[0m",
            "\u001b[0;31mAttributeError\u001b[0m                            Traceback (most recent call last)",
            "\u001b[0;32m<ipython-input-63-4b180bd42c69>\u001b[0m in \u001b[0;36m<module>\u001b[0;34m()\u001b[0m\n\u001b[0;32m----> 1\u001b[0;31m \u001b[0mpso_history\u001b[0m \u001b[0;34m=\u001b[0m \u001b[0mtest_solver\u001b[0m\u001b[0;34m(\u001b[0m\u001b[0mpso\u001b[0m\u001b[0;34m)\u001b[0m\u001b[0;34m\u001b[0m\u001b[0;34m\u001b[0m\u001b[0m\n\u001b[0m",
            "\u001b[0;32m<ipython-input-59-d51ecde60115>\u001b[0m in \u001b[0;36mtest_solver\u001b[0;34m(solver)\u001b[0m\n\u001b[1;32m      5\u001b[0m     \u001b[0mfitness_list\u001b[0m \u001b[0;34m=\u001b[0m \u001b[0mnp\u001b[0m\u001b[0;34m.\u001b[0m\u001b[0mzeros\u001b[0m\u001b[0;34m(\u001b[0m\u001b[0msolver\u001b[0m\u001b[0;34m.\u001b[0m\u001b[0mpopsize\u001b[0m\u001b[0;34m)\u001b[0m\u001b[0;34m\u001b[0m\u001b[0;34m\u001b[0m\u001b[0m\n\u001b[1;32m      6\u001b[0m     \u001b[0;32mfor\u001b[0m \u001b[0mi\u001b[0m \u001b[0;32min\u001b[0m \u001b[0mrange\u001b[0m\u001b[0;34m(\u001b[0m\u001b[0msolver\u001b[0m\u001b[0;34m.\u001b[0m\u001b[0mpopsize\u001b[0m\u001b[0;34m)\u001b[0m\u001b[0;34m:\u001b[0m\u001b[0;34m\u001b[0m\u001b[0;34m\u001b[0m\u001b[0m\n\u001b[0;32m----> 7\u001b[0;31m       \u001b[0mfitness_list\u001b[0m\u001b[0;34m[\u001b[0m\u001b[0mi\u001b[0m\u001b[0;34m]\u001b[0m \u001b[0;34m=\u001b[0m \u001b[0mfit_func\u001b[0m\u001b[0;34m(\u001b[0m\u001b[0msolutions\u001b[0m\u001b[0;34m[\u001b[0m\u001b[0mi\u001b[0m\u001b[0;34m]\u001b[0m\u001b[0;34m)\u001b[0m\u001b[0;34m\u001b[0m\u001b[0;34m\u001b[0m\u001b[0m\n\u001b[0m\u001b[1;32m      8\u001b[0m     \u001b[0msolver\u001b[0m\u001b[0;34m.\u001b[0m\u001b[0mtell\u001b[0m\u001b[0;34m(\u001b[0m\u001b[0mfitness_list\u001b[0m\u001b[0;34m)\u001b[0m\u001b[0;34m\u001b[0m\u001b[0;34m\u001b[0m\u001b[0m\n\u001b[1;32m      9\u001b[0m     \u001b[0mresult\u001b[0m \u001b[0;34m=\u001b[0m \u001b[0msolver\u001b[0m\u001b[0;34m.\u001b[0m\u001b[0mresult\u001b[0m\u001b[0;34m(\u001b[0m\u001b[0;34m)\u001b[0m \u001b[0;31m# first element is the best solution, second element is the best fitness\u001b[0m\u001b[0;34m\u001b[0m\u001b[0;34m\u001b[0m\u001b[0m\n",
            "\u001b[0;32m<ipython-input-56-dc89b6573c29>\u001b[0m in \u001b[0;36mdeceptivemultimodal\u001b[0;34m(x)\u001b[0m\n\u001b[1;32m     43\u001b[0m     \u001b[0mangle\u001b[0m \u001b[0;34m=\u001b[0m \u001b[0mnp\u001b[0m\u001b[0;34m.\u001b[0m\u001b[0marctan\u001b[0m\u001b[0;34m(\u001b[0m\u001b[0mx\u001b[0m\u001b[0;34m[\u001b[0m\u001b[0;36m0\u001b[0m\u001b[0;34m]\u001b[0m \u001b[0;34m/\u001b[0m \u001b[0mx\u001b[0m\u001b[0;34m[\u001b[0m\u001b[0;36m1\u001b[0m\u001b[0;34m]\u001b[0m\u001b[0;34m)\u001b[0m \u001b[0;32mif\u001b[0m \u001b[0mx\u001b[0m\u001b[0;34m[\u001b[0m\u001b[0;36m1\u001b[0m\u001b[0;34m]\u001b[0m \u001b[0;34m!=\u001b[0m \u001b[0;36m0.0\u001b[0m \u001b[0;32melse\u001b[0m \u001b[0mnp\u001b[0m\u001b[0;34m.\u001b[0m\u001b[0mpi\u001b[0m \u001b[0;34m/\u001b[0m \u001b[0;36m2.0\u001b[0m\u001b[0;34m\u001b[0m\u001b[0;34m\u001b[0m\u001b[0m\n\u001b[1;32m     44\u001b[0m     \u001b[0minvdistance\u001b[0m \u001b[0;34m=\u001b[0m \u001b[0mint\u001b[0m\u001b[0;34m(\u001b[0m\u001b[0;36m1.0\u001b[0m \u001b[0;34m/\u001b[0m \u001b[0mdistance\u001b[0m\u001b[0;34m)\u001b[0m \u001b[0;32mif\u001b[0m \u001b[0mdistance\u001b[0m \u001b[0;34m>\u001b[0m \u001b[0;36m0.0\u001b[0m \u001b[0;32melse\u001b[0m \u001b[0;36m0.0\u001b[0m\u001b[0;34m\u001b[0m\u001b[0;34m\u001b[0m\u001b[0m\n\u001b[0;32m---> 45\u001b[0;31m     \u001b[0;32mif\u001b[0m \u001b[0mnp\u001b[0m\u001b[0;34m.\u001b[0m\u001b[0mabs\u001b[0m\u001b[0;34m(\u001b[0m\u001b[0mnp\u001b[0m\u001b[0;34m.\u001b[0m\u001b[0mcos\u001b[0m\u001b[0;34m(\u001b[0m\u001b[0minvdistance\u001b[0m\u001b[0;34m)\u001b[0m \u001b[0;34m-\u001b[0m \u001b[0mangle\u001b[0m\u001b[0;34m)\u001b[0m \u001b[0;34m>\u001b[0m \u001b[0;36m0.1\u001b[0m\u001b[0;34m:\u001b[0m\u001b[0;34m\u001b[0m\u001b[0;34m\u001b[0m\u001b[0m\n\u001b[0m\u001b[1;32m     46\u001b[0m         \u001b[0;32mreturn\u001b[0m \u001b[0;34m-\u001b[0m\u001b[0;36m1.0\u001b[0m\u001b[0;34m\u001b[0m\u001b[0;34m\u001b[0m\u001b[0m\n\u001b[1;32m     47\u001b[0m     \u001b[0;32mreturn\u001b[0m \u001b[0;34m-\u001b[0m\u001b[0mfloat\u001b[0m\u001b[0;34m(\u001b[0m\u001b[0mdistance\u001b[0m\u001b[0;34m)\u001b[0m\u001b[0;34m\u001b[0m\u001b[0;34m\u001b[0m\u001b[0m\n",
            "\u001b[0;31mAttributeError\u001b[0m: 'int' object has no attribute 'cos'"
          ]
        }
      ]
    },
    {
      "cell_type": "code",
      "metadata": {
        "id": "6_Mb-o9rbIYg",
        "colab_type": "code",
        "colab": {}
      },
      "source": [
        "# Create a new figure of size 8x6 points, using 100 dots per inch\n",
        "best_history = [0] * MAX_ITERATION\n",
        "plt.figure(figsize=(10,8), dpi=150)\n",
        "\n",
        "optimum_line, = plt.plot(best_history, color=\"black\", linewidth=0.5, linestyle=\"-.\", label='Global Optimum')\n",
        "ga_line, = plt.plot(ga_history, color=\"green\", linewidth=1.0, linestyle=\"-\", label='GA')\n",
        "oes_line, = plt.plot(oes_history, color=\"orange\", linewidth=1.0, linestyle=\"-\", label='OpenAI-ES')\n",
        "#pepg_line, = plt.plot(pepg_history, color=\"blue\", linewidth=1.0, linestyle=\"-\", label='PEPG / NES')\n",
        "cma_line, = plt.plot(cma_history, color=\"red\", linewidth=1.0, linestyle=\"-\", label='CMA-ES')\n",
        "pso_line, = plt.plot(pso_history, color=\"pink\", linewidth=1.0, linestyle=\"-\", label='PSO')\n",
        "\n",
        "\n",
        "\n",
        "plt.legend(handles=[optimum_line, ga_line, cma_line, oes_line, pso_line], loc=4)\n",
        "\n",
        "# Set x limits\n",
        "plt.xlim(0,MAX_ITERATION)\n",
        "#plt.ylim(-1.1,0.01)\n",
        "\n",
        "plt.xlabel('generation')\n",
        "plt.ylabel('fitness')\n",
        "\n",
        "# plt.savefig(\"./rastrigin_10d.svg\")\n",
        "\n",
        "plt.show()"
      ],
      "execution_count": 0,
      "outputs": []
    }
  ]
}