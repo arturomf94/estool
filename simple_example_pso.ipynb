{
  "nbformat": 4,
  "nbformat_minor": 0,
  "metadata": {
    "colab": {
      "name": "simple_example_pso.ipynb",
      "provenance": [],
      "collapsed_sections": [],
      "include_colab_link": true
    },
    "kernelspec": {
      "name": "python3",
      "display_name": "Python 3"
    }
  },
  "cells": [
    {
      "cell_type": "markdown",
      "metadata": {
        "id": "view-in-github",
        "colab_type": "text"
      },
      "source": [
        "<a href=\"https://colab.research.google.com/github/arturomf94/estool/blob/master/simple_example_pso.ipynb\" target=\"_parent\"><img src=\"https://colab.research.google.com/assets/colab-badge.svg\" alt=\"Open In Colab\"/></a>"
      ]
    },
    {
      "cell_type": "code",
      "metadata": {
        "id": "Ls9oqkAJElu4",
        "colab_type": "code",
        "outputId": "24db6386-83a4-4cc4-cceb-75c6738b7ba6",
        "colab": {
          "base_uri": "https://localhost:8080/",
          "height": 141
        }
      },
      "source": [
        "!git clone https://github.com/arturomf94/estool.git\n",
        "import os\n",
        "os.chdir('estool')"
      ],
      "execution_count": 1,
      "outputs": [
        {
          "output_type": "stream",
          "text": [
            "Cloning into 'estool'...\n",
            "remote: Enumerating objects: 335, done.\u001b[K\n",
            "remote: Counting objects: 100% (335/335), done.\u001b[K\n",
            "remote: Compressing objects: 100% (272/272), done.\u001b[K\n",
            "remote: Total 633 (delta 136), reused 256 (delta 63), pack-reused 298\u001b[K\n",
            "Receiving objects: 100% (633/633), 4.85 MiB | 22.29 MiB/s, done.\n",
            "Resolving deltas: 100% (244/244), done.\n"
          ],
          "name": "stdout"
        }
      ]
    },
    {
      "cell_type": "code",
      "metadata": {
        "id": "8w3MZYvaFMmm",
        "colab_type": "code",
        "outputId": "86807c45-17d3-4a7c-db23-481ee03640de",
        "colab": {
          "base_uri": "https://localhost:8080/",
          "height": 1000
        }
      },
      "source": [
        "!pip install -r requirements.txt"
      ],
      "execution_count": 2,
      "outputs": [
        {
          "output_type": "stream",
          "text": [
            "Collecting gym==0.9.4\n",
            "\u001b[?25l  Downloading https://files.pythonhosted.org/packages/f8/9f/b50f4c04a97e316ebfccae3104e5edbfe7bc1c687ee9ebeca6fa6343d197/gym-0.9.4.tar.gz (157kB)\n",
            "\r\u001b[K     |██                              | 10kB 17.4MB/s eta 0:00:01\r\u001b[K     |████▏                           | 20kB 1.7MB/s eta 0:00:01\r\u001b[K     |██████▎                         | 30kB 2.6MB/s eta 0:00:01\r\u001b[K     |████████▎                       | 40kB 1.7MB/s eta 0:00:01\r\u001b[K     |██████████▍                     | 51kB 2.1MB/s eta 0:00:01\r\u001b[K     |████████████▌                   | 61kB 2.5MB/s eta 0:00:01\r\u001b[K     |██████████████▌                 | 71kB 2.9MB/s eta 0:00:01\r\u001b[K     |████████████████▋               | 81kB 3.3MB/s eta 0:00:01\r\u001b[K     |██████████████████▊             | 92kB 3.7MB/s eta 0:00:01\r\u001b[K     |████████████████████▊           | 102kB 2.8MB/s eta 0:00:01\r\u001b[K     |██████████████████████▉         | 112kB 2.8MB/s eta 0:00:01\r\u001b[K     |█████████████████████████       | 122kB 2.8MB/s eta 0:00:01\r\u001b[K     |███████████████████████████     | 133kB 2.8MB/s eta 0:00:01\r\u001b[K     |█████████████████████████████   | 143kB 2.8MB/s eta 0:00:01\r\u001b[K     |███████████████████████████████▏| 153kB 2.8MB/s eta 0:00:01\r\u001b[K     |████████████████████████████████| 163kB 2.8MB/s \n",
            "\u001b[?25hRequirement already satisfied: mpi4py in /usr/local/lib/python3.6/dist-packages (from -r requirements.txt (line 2)) (3.0.2)\n",
            "Collecting numpy==1.13.3\n",
            "\u001b[?25l  Downloading https://files.pythonhosted.org/packages/57/a7/e3e6bd9d595125e1abbe162e323fd2d06f6f6683185294b79cd2cdb190d5/numpy-1.13.3-cp36-cp36m-manylinux1_x86_64.whl (17.0MB)\n",
            "\u001b[K     |████████████████████████████████| 17.0MB 137kB/s \n",
            "\u001b[?25hCollecting cma\n",
            "\u001b[?25l  Downloading https://files.pythonhosted.org/packages/b9/3b/87a4efbcfeaf3172d81ef843f0b0c34c3ba60ec884aa6777f34f68b57418/cma-2.7.0-py2.py3-none-any.whl (239kB)\n",
            "\u001b[K     |████████████████████████████████| 245kB 42.2MB/s \n",
            "\u001b[?25hCollecting pybullet==1.6.3\n",
            "\u001b[?25l  Downloading https://files.pythonhosted.org/packages/0c/48/cd8eed5b6bade50ab0e65d3069055f7527d1a964a1dbd8a1e6a5b2222345/pybullet-1.6.3.tar.gz (16.1MB)\n",
            "\u001b[K     |████████████████████████████████| 16.1MB 139kB/s \n",
            "\u001b[?25hCollecting box2d-py\n",
            "\u001b[?25l  Downloading https://files.pythonhosted.org/packages/06/bd/6cdc3fd994b0649dcf5d9bad85bd9e26172308bbe9a421bfc6fdbf5081a6/box2d_py-2.3.8-cp36-cp36m-manylinux1_x86_64.whl (448kB)\n",
            "\u001b[K     |████████████████████████████████| 450kB 30.0MB/s \n",
            "\u001b[?25hCollecting roboschool\n",
            "\u001b[?25l  Downloading https://files.pythonhosted.org/packages/78/d4/014e2589708f6b49b75215e5404559dd0ce76e301aed01ae9efa2dc1bfe5/roboschool-1.0.49-cp36-cp36m-manylinux1_x86_64.whl (48.9MB)\n",
            "\u001b[K     |████████████████████████████████| 48.9MB 47kB/s \n",
            "\u001b[?25hCollecting nevergrad\n",
            "\u001b[?25l  Downloading https://files.pythonhosted.org/packages/66/cb/87eaf13e1978126dad2b763060075b36abe578eeef0e7e14c91336220f00/nevergrad-0.2.3-py3-none-any.whl (175kB)\n",
            "\u001b[K     |████████████████████████████████| 184kB 55.0MB/s \n",
            "\u001b[?25hCollecting pyswarms\n",
            "\u001b[?25l  Downloading https://files.pythonhosted.org/packages/0b/6f/42605c4e111a08a8fbaba953d0783c56ad2913ffa5959bdac53f649502a2/pyswarms-1.1.0-py2.py3-none-any.whl (96kB)\n",
            "\u001b[K     |████████████████████████████████| 102kB 11.7MB/s \n",
            "\u001b[?25hRequirement already satisfied: pyyaml in /usr/local/lib/python3.6/dist-packages (from -r requirements.txt (line 10)) (3.13)\n",
            "Requirement already satisfied: requests>=2.0 in /usr/local/lib/python3.6/dist-packages (from gym==0.9.4->-r requirements.txt (line 1)) (2.21.0)\n",
            "Requirement already satisfied: six in /usr/local/lib/python3.6/dist-packages (from gym==0.9.4->-r requirements.txt (line 1)) (1.12.0)\n",
            "Requirement already satisfied: pyglet>=1.2.0 in /usr/local/lib/python3.6/dist-packages (from gym==0.9.4->-r requirements.txt (line 1)) (1.3.2)\n",
            "Collecting bayesian-optimization>=1.0.1\n",
            "  Downloading https://files.pythonhosted.org/packages/72/0c/173ac467d0a53e33e41b521e4ceba74a8ac7c7873d7b857a8fbdca88302d/bayesian-optimization-1.0.1.tar.gz\n",
            "Requirement already satisfied: pandas>=0.23.4 in /usr/local/lib/python3.6/dist-packages (from nevergrad->-r requirements.txt (line 8)) (0.25.3)\n",
            "Requirement already satisfied: typing-extensions>=3.6.6 in /usr/local/lib/python3.6/dist-packages (from nevergrad->-r requirements.txt (line 8)) (3.6.6)\n",
            "Requirement already satisfied: scipy in /usr/local/lib/python3.6/dist-packages (from pyswarms->-r requirements.txt (line 9)) (1.3.1)\n",
            "Requirement already satisfied: tqdm in /usr/local/lib/python3.6/dist-packages (from pyswarms->-r requirements.txt (line 9)) (4.28.1)\n",
            "Requirement already satisfied: matplotlib>=1.3.1 in /usr/local/lib/python3.6/dist-packages (from pyswarms->-r requirements.txt (line 9)) (3.1.1)\n",
            "Requirement already satisfied: attrs in /usr/local/lib/python3.6/dist-packages (from pyswarms->-r requirements.txt (line 9)) (19.3.0)\n",
            "Requirement already satisfied: future in /usr/local/lib/python3.6/dist-packages (from pyswarms->-r requirements.txt (line 9)) (0.16.0)\n",
            "Requirement already satisfied: urllib3<1.25,>=1.21.1 in /usr/local/lib/python3.6/dist-packages (from requests>=2.0->gym==0.9.4->-r requirements.txt (line 1)) (1.24.3)\n",
            "Requirement already satisfied: chardet<3.1.0,>=3.0.2 in /usr/local/lib/python3.6/dist-packages (from requests>=2.0->gym==0.9.4->-r requirements.txt (line 1)) (3.0.4)\n",
            "Requirement already satisfied: idna<2.9,>=2.5 in /usr/local/lib/python3.6/dist-packages (from requests>=2.0->gym==0.9.4->-r requirements.txt (line 1)) (2.8)\n",
            "Requirement already satisfied: certifi>=2017.4.17 in /usr/local/lib/python3.6/dist-packages (from requests>=2.0->gym==0.9.4->-r requirements.txt (line 1)) (2019.9.11)\n",
            "Requirement already satisfied: scikit-learn>=0.18.0 in /usr/local/lib/python3.6/dist-packages (from bayesian-optimization>=1.0.1->nevergrad->-r requirements.txt (line 8)) (0.21.3)\n",
            "Requirement already satisfied: pytz>=2017.2 in /usr/local/lib/python3.6/dist-packages (from pandas>=0.23.4->nevergrad->-r requirements.txt (line 8)) (2018.9)\n",
            "Requirement already satisfied: python-dateutil>=2.6.1 in /usr/local/lib/python3.6/dist-packages (from pandas>=0.23.4->nevergrad->-r requirements.txt (line 8)) (2.6.1)\n",
            "Requirement already satisfied: kiwisolver>=1.0.1 in /usr/local/lib/python3.6/dist-packages (from matplotlib>=1.3.1->pyswarms->-r requirements.txt (line 9)) (1.1.0)\n",
            "Requirement already satisfied: cycler>=0.10 in /usr/local/lib/python3.6/dist-packages (from matplotlib>=1.3.1->pyswarms->-r requirements.txt (line 9)) (0.10.0)\n",
            "Requirement already satisfied: pyparsing!=2.0.4,!=2.1.2,!=2.1.6,>=2.0.1 in /usr/local/lib/python3.6/dist-packages (from matplotlib>=1.3.1->pyswarms->-r requirements.txt (line 9)) (2.4.2)\n",
            "Requirement already satisfied: joblib>=0.11 in /usr/local/lib/python3.6/dist-packages (from scikit-learn>=0.18.0->bayesian-optimization>=1.0.1->nevergrad->-r requirements.txt (line 8)) (0.14.0)\n",
            "Requirement already satisfied: setuptools in /usr/local/lib/python3.6/dist-packages (from kiwisolver>=1.0.1->matplotlib>=1.3.1->pyswarms->-r requirements.txt (line 9)) (41.4.0)\n",
            "Building wheels for collected packages: gym, pybullet, bayesian-optimization\n",
            "  Building wheel for gym (setup.py) ... \u001b[?25l\u001b[?25hdone\n",
            "  Created wheel for gym: filename=gym-0.9.4-cp36-none-any.whl size=215484 sha256=49bb62d423aade5ca7a48c86c647ac7cd9113c7d7451585104b55f98fd3a03f0\n",
            "  Stored in directory: /root/.cache/pip/wheels/2f/ae/a0/126678adc5f1f8905309a4712ea29537999787f610edbcb0a4\n",
            "  Building wheel for pybullet (setup.py) ... \u001b[?25l\u001b[?25hdone\n",
            "  Created wheel for pybullet: filename=pybullet-1.6.3-cp36-cp36m-linux_x86_64.whl size=26924138 sha256=3f0f8a563ddfb2f61898a694b9f2ad241237259b9be34e06d9d473c850f4f1c2\n",
            "  Stored in directory: /root/.cache/pip/wheels/58/78/7f/fb2809c07e1da5117eaff2ada2f093faa882ff4393d2e7bab6\n",
            "  Building wheel for bayesian-optimization (setup.py) ... \u001b[?25l\u001b[?25hdone\n",
            "  Created wheel for bayesian-optimization: filename=bayesian_optimization-1.0.1-cp36-none-any.whl size=10032 sha256=d90e77cfd57ab61954908d20cc9af5a082a7c6de9b99088408da2c91bd7e2cc3\n",
            "  Stored in directory: /root/.cache/pip/wheels/1d/0d/3b/6b9d4477a34b3905f246ff4e7acf6aafd4cc9b77d473629b77\n",
            "Successfully built gym pybullet bayesian-optimization\n",
            "\u001b[31mERROR: tensorflow 1.15.0 has requirement numpy<2.0,>=1.16.0, but you'll have numpy 1.13.3 which is incompatible.\u001b[0m\n",
            "\u001b[31mERROR: stable-baselines 2.2.1 has requirement gym[atari,classic_control]>=0.10.9, but you'll have gym 0.9.4 which is incompatible.\u001b[0m\n",
            "\u001b[31mERROR: spacy 2.1.9 has requirement numpy>=1.15.0, but you'll have numpy 1.13.3 which is incompatible.\u001b[0m\n",
            "\u001b[31mERROR: pyarrow 0.14.1 has requirement numpy>=1.14, but you'll have numpy 1.13.3 which is incompatible.\u001b[0m\n",
            "\u001b[31mERROR: imgaug 0.2.9 has requirement numpy>=1.15.0, but you'll have numpy 1.13.3 which is incompatible.\u001b[0m\n",
            "\u001b[31mERROR: fastai 1.0.59 has requirement numpy>=1.15, but you'll have numpy 1.13.3 which is incompatible.\u001b[0m\n",
            "\u001b[31mERROR: dopamine-rl 1.0.5 has requirement gym>=0.10.5, but you'll have gym 0.9.4 which is incompatible.\u001b[0m\n",
            "\u001b[31mERROR: datascience 0.10.6 has requirement folium==0.2.1, but you'll have folium 0.8.3 which is incompatible.\u001b[0m\n",
            "\u001b[31mERROR: cvxpy 1.0.25 has requirement numpy>=1.15, but you'll have numpy 1.13.3 which is incompatible.\u001b[0m\n",
            "\u001b[31mERROR: blis 0.2.4 has requirement numpy>=1.15.0, but you'll have numpy 1.13.3 which is incompatible.\u001b[0m\n",
            "\u001b[31mERROR: albumentations 0.1.12 has requirement imgaug<0.2.7,>=0.2.5, but you'll have imgaug 0.2.9 which is incompatible.\u001b[0m\n",
            "\u001b[31mERROR: nevergrad 0.2.3 has requirement numpy>=1.15.0, but you'll have numpy 1.13.3 which is incompatible.\u001b[0m\n",
            "Installing collected packages: numpy, gym, cma, pybullet, box2d-py, roboschool, bayesian-optimization, nevergrad, pyswarms\n",
            "  Found existing installation: numpy 1.17.3\n",
            "    Uninstalling numpy-1.17.3:\n",
            "      Successfully uninstalled numpy-1.17.3\n",
            "  Found existing installation: gym 0.15.3\n",
            "    Uninstalling gym-0.15.3:\n",
            "      Successfully uninstalled gym-0.15.3\n",
            "Successfully installed bayesian-optimization-1.0.1 box2d-py-2.3.8 cma-2.7.0 gym-0.9.4 nevergrad-0.2.3 numpy-1.13.3 pybullet-1.6.3 pyswarms-1.1.0 roboschool-1.0.49\n"
          ],
          "name": "stdout"
        },
        {
          "output_type": "display_data",
          "data": {
            "application/vnd.colab-display-data+json": {
              "pip_warning": {
                "packages": [
                  "numpy"
                ]
              }
            }
          },
          "metadata": {
            "tags": []
          }
        }
      ]
    },
    {
      "cell_type": "code",
      "metadata": {
        "id": "saYtUkOzM0wD",
        "colab_type": "code",
        "colab": {}
      },
      "source": [
        "import numpy as np\n",
        "import matplotlib.pyplot as plt\n",
        "import cma\n",
        "from es import SimpleGA, CMAES, PEPG, OpenES, Pyswarms"
      ],
      "execution_count": 0,
      "outputs": []
    },
    {
      "cell_type": "code",
      "metadata": {
        "id": "O3jK-asDM4Yy",
        "colab_type": "code",
        "colab": {}
      },
      "source": [
        "# from https://github.com/CMA-ES/pycma/blob/master/cma/fitness_functions.py\n",
        "def rastrigin(x):\n",
        "  \"\"\"Rastrigin test objective function\"\"\"\n",
        "  x = np.copy(x)\n",
        "  #x -= 10.0\n",
        "  if not np.isscalar(x[0]):\n",
        "    N = len(x[0])\n",
        "    return -np.array([10 * N + sum(xi**2 - 10 * np.cos(2 * np.pi * xi)) for xi in x])\n",
        "  N = len(x)\n",
        "  return -(10 * N + sum(x**2 - 10 * np.cos(2 * np.pi * x)))\n",
        "\n",
        "def rastrigin_shifted(x):\n",
        "  \"\"\"Rastrigin test objective function, shifted by 10. units away from origin\"\"\"\n",
        "  x = np.copy(x)\n",
        "  x -= 10.0\n",
        "  if not np.isscalar(x[0]):\n",
        "    N = len(x[0])\n",
        "    return -np.array([10 * N + sum(xi**2 - 10 * np.cos(2 * np.pi * xi)) for xi in x])\n",
        "  N = len(x)\n",
        "  return -(10 * N + sum(x**2 - 10 * np.cos(2 * np.pi * x)))\n",
        "\n",
        "def schaffer(x):\n",
        "    \"\"\" Schaffer function\"\"\"\n",
        "    x = np.copy(x)\n",
        "    #x -= 10.0\n",
        "    N = len(x)\n",
        "    s = x[0:N - 1]**2 + x[1:N]**2\n",
        "    return -sum(s**0.25 * (np.sin(50 * s**0.1)**2 + 1))\n",
        "  \n",
        "def schaffer_shifted(x):\n",
        "    \"\"\" Schaffer function shifted\"\"\"\n",
        "    x = np.copy(x)\n",
        "    x -= 10.0\n",
        "    N = len(x)\n",
        "    s = x[0:N - 1]**2 + x[1:N]**2\n",
        "    return -sum(s**0.25 * (np.sin(50 * s**0.1)**2 + 1))"
      ],
      "execution_count": 0,
      "outputs": []
    },
    {
      "cell_type": "code",
      "metadata": {
        "id": "G9E2E8e0aex8",
        "colab_type": "code",
        "colab": {}
      },
      "source": [
        "fit_func = schaffer_shifted"
      ],
      "execution_count": 0,
      "outputs": []
    },
    {
      "cell_type": "code",
      "metadata": {
        "id": "vj_M_wLeM8zK",
        "colab_type": "code",
        "colab": {}
      },
      "source": [
        "NPARAMS = 100        # make this a 100-dimensinal problem.\n",
        "NPOPULATION = 101    # use population size of 101.\n",
        "MAX_ITERATION = 5000 # run each solver for 5000 generations."
      ],
      "execution_count": 0,
      "outputs": []
    },
    {
      "cell_type": "code",
      "metadata": {
        "id": "L23tOZz8M9yZ",
        "colab_type": "code",
        "colab": {}
      },
      "source": [
        "# defines a function to use solver to solve fit_func\n",
        "def test_solver(solver):\n",
        "  history = []\n",
        "  for j in range(MAX_ITERATION):\n",
        "    solutions = solver.ask()\n",
        "    fitness_list = np.zeros(solver.popsize)\n",
        "    for i in range(solver.popsize):\n",
        "      fitness_list[i] = fit_func(solutions[i])\n",
        "    solver.tell(fitness_list)\n",
        "    result = solver.result() # first element is the best solution, second element is the best fitness\n",
        "    history.append(result[1])\n",
        "    if (j+1) % 100 == 0:\n",
        "      print(\"fitness at iteration\", (j+1), result[1])\n",
        "  print(\"local optimum discovered by solver:\\n\", result[0])\n",
        "  print(\"fitness score at this local optimum:\", result[1])\n",
        "  return history\n"
      ],
      "execution_count": 0,
      "outputs": []
    },
    {
      "cell_type": "code",
      "metadata": {
        "id": "LpFvvjTSNOv3",
        "colab_type": "code",
        "outputId": "6bff4188-94e1-4853-8367-2b1376cd6718",
        "colab": {
          "base_uri": "https://localhost:8080/",
          "height": 53
        }
      },
      "source": [
        "x = np.zeros(NPARAMS) # 100-dimensional problem\n",
        "print(\"This is F(0):\")\n",
        "print(fit_func(x))"
      ],
      "execution_count": 26,
      "outputs": [
        {
          "output_type": "stream",
          "text": [
            "This is F(0):\n",
            "-10000.0\n"
          ],
          "name": "stdout"
        }
      ]
    },
    {
      "cell_type": "code",
      "metadata": {
        "id": "VTLmc0TVNYXC",
        "colab_type": "code",
        "outputId": "6ff61060-637b-497f-a1d1-cdcadf65dac9",
        "colab": {
          "base_uri": "https://localhost:8080/",
          "height": 53
        }
      },
      "source": [
        "x = np.ones(NPARAMS)*10. # 100-dimensional problem\n",
        "print(\"This is F(10):\")\n",
        "print(fit_func(x))\n"
      ],
      "execution_count": 27,
      "outputs": [
        {
          "output_type": "stream",
          "text": [
            "This is F(10):\n",
            "-0.0\n"
          ],
          "name": "stdout"
        }
      ]
    },
    {
      "cell_type": "code",
      "metadata": {
        "id": "HmiOxKSZNa5i",
        "colab_type": "code",
        "colab": {}
      },
      "source": [
        "# defines genetic algorithm solver\n",
        "ga = SimpleGA(NPARAMS,                # number of model parameters\n",
        "               sigma_init=1,        # initial standard deviation\n",
        "               popsize=NPOPULATION,   # population size\n",
        "               elite_ratio=0.1,       # percentage of the elites\n",
        "               forget_best=False,     # forget the historical best elites\n",
        "               weight_decay=0.00,     # weight decay coefficient\n",
        "              )"
      ],
      "execution_count": 0,
      "outputs": []
    },
    {
      "cell_type": "code",
      "metadata": {
        "id": "JCEkvZ0PNcd1",
        "colab_type": "code",
        "outputId": "61e8c5b2-e054-4768-aa22-27b17d49f9cd",
        "colab": {
          "base_uri": "https://localhost:8080/",
          "height": 1000
        }
      },
      "source": [
        "ga_history = test_solver(ga)"
      ],
      "execution_count": 61,
      "outputs": [
        {
          "output_type": "stream",
          "text": [
            "fitness at iteration 100 -334.732346848319\n",
            "fitness at iteration 200 -229.80753059847817\n",
            "fitness at iteration 300 -192.05205381620718\n",
            "fitness at iteration 400 -175.40906020503016\n",
            "fitness at iteration 500 -165.12054118916834\n",
            "fitness at iteration 600 -152.8355322957429\n",
            "fitness at iteration 700 -138.04246298610715\n",
            "fitness at iteration 800 -138.04246298610715\n",
            "fitness at iteration 900 -129.41608159417245\n",
            "fitness at iteration 1000 -121.77683252763867\n",
            "fitness at iteration 1100 -114.39764301073383\n",
            "fitness at iteration 1200 -112.39074762512797\n",
            "fitness at iteration 1300 -109.20897482484433\n",
            "fitness at iteration 1400 -102.22958580620563\n",
            "fitness at iteration 1500 -98.92102275961565\n",
            "fitness at iteration 1600 -94.61435425005784\n",
            "fitness at iteration 1700 -90.27785365338812\n",
            "fitness at iteration 1800 -86.10878185173843\n",
            "fitness at iteration 1900 -83.64722178500581\n",
            "fitness at iteration 2000 -76.0280455101405\n",
            "fitness at iteration 2100 -76.0280455101405\n",
            "fitness at iteration 2200 -72.78503195236325\n",
            "fitness at iteration 2300 -68.62465120321835\n",
            "fitness at iteration 2400 -65.22447363812515\n",
            "fitness at iteration 2500 -61.85604703738855\n",
            "fitness at iteration 2600 -60.13583918926801\n",
            "fitness at iteration 2700 -56.58720440742016\n",
            "fitness at iteration 2800 -54.352116492354135\n",
            "fitness at iteration 2900 -51.47688718056331\n",
            "fitness at iteration 3000 -51.08057373043283\n",
            "fitness at iteration 3100 -49.3647016960889\n",
            "fitness at iteration 3200 -46.63243346134216\n",
            "fitness at iteration 3300 -45.485392324782495\n",
            "fitness at iteration 3400 -42.67909509729176\n",
            "fitness at iteration 3500 -41.112784637941196\n",
            "fitness at iteration 3600 -37.38503355409112\n",
            "fitness at iteration 3700 -37.337009452504276\n",
            "fitness at iteration 3800 -35.76661384812998\n",
            "fitness at iteration 3900 -33.89221556898604\n",
            "fitness at iteration 4000 -32.96038775340537\n",
            "fitness at iteration 4100 -32.96038775340537\n",
            "fitness at iteration 4200 -31.680862969667963\n",
            "fitness at iteration 4300 -30.67887664795241\n",
            "fitness at iteration 4400 -28.76920782383547\n",
            "fitness at iteration 4500 -28.04826232410737\n",
            "fitness at iteration 4600 -26.963795648100696\n",
            "fitness at iteration 4700 -26.348574095782826\n",
            "fitness at iteration 4800 -26.206409742699698\n",
            "fitness at iteration 4900 -25.876257397356873\n",
            "fitness at iteration 5000 -25.65519840789255\n",
            "local optimum discovered by solver:\n",
            " [ 9.98063519 10.00009685  9.99379181  9.98715757  9.94921217  9.99945102\n",
            "  9.99365939 10.01839133  9.97579402 10.00641922  9.97985354 10.0251377\n",
            "  9.98956404  9.97078314 10.02710065 -6.85807756  9.98263184  9.94634419\n",
            "  9.98350526  9.99986755  9.99140624 10.01657288  9.98466003 10.02319456\n",
            "  9.98332717  9.990515    9.97716485  9.99694192  9.99327046 10.00318329\n",
            " 10.02066709 10.00492607  9.99411049 10.00322248  9.99858963 10.00864346\n",
            "  9.98963676  9.99883567  9.98341465 10.01221908  9.9827746   9.99214559\n",
            " 10.00748893 10.00745556 10.01124025 10.01506538 10.00606316  9.9906087\n",
            " 10.02620799 10.00702598 10.00510493 10.02923069  9.9872667  10.0055468\n",
            " 10.0080466   9.99577243  9.99970483 10.01595899  9.99674313 10.00650716\n",
            "  9.98969627  9.96480623 10.00932251 10.02603089  9.99284588  9.96893969\n",
            "  9.99890792  9.99918634  9.9990519   9.99960728 10.0042749   9.99677766\n",
            "  9.99815936 10.00842352  9.97374945  9.98087161  9.97190661  9.98874648\n",
            " 10.00179803 10.00671423  9.98394603 10.0055682  10.00344193  9.94935984\n",
            "  9.99925808 10.00645831 10.00452385  9.96611953 10.01804643 10.00681617\n",
            "  9.99334068 10.01515433 10.00980862 10.01214009 10.01173213 10.00964492\n",
            " 10.03098936  9.99223935 10.00046415 10.00046881]\n",
            "fitness score at this local optimum: -25.65519840789255\n"
          ],
          "name": "stdout"
        }
      ]
    },
    {
      "cell_type": "code",
      "metadata": {
        "id": "IvFqIuUlNpQ2",
        "colab_type": "code",
        "outputId": "538dc701-cff6-41a5-bd70-6e259d11a818",
        "colab": {
          "base_uri": "https://localhost:8080/",
          "height": 35
        }
      },
      "source": [
        "# defines CMA-ES algorithm solver\n",
        "cmaes = CMAES(NPARAMS,\n",
        "              popsize=NPOPULATION,\n",
        "              weight_decay=0.0,\n",
        "              sigma_init = 1\n",
        "          )\n"
      ],
      "execution_count": 62,
      "outputs": [
        {
          "output_type": "stream",
          "text": [
            "(50_w,101)-aCMA-ES (mu_w=27.2,w_1=8%) in dimension 100 (seed=217080, Wed Nov  6 18:17:06 2019)\n"
          ],
          "name": "stdout"
        }
      ]
    },
    {
      "cell_type": "code",
      "metadata": {
        "id": "dkt0zOFDNtAn",
        "colab_type": "code",
        "outputId": "d59098b6-ac79-4827-bfcc-1e44562b0593",
        "colab": {
          "base_uri": "https://localhost:8080/",
          "height": 1000
        }
      },
      "source": [
        "cma_history = test_solver(cmaes)"
      ],
      "execution_count": 63,
      "outputs": [
        {
          "output_type": "stream",
          "text": [
            "fitness at iteration 100 -372.92499274915514\n",
            "fitness at iteration 200 -371.1291946514233\n",
            "fitness at iteration 300 -371.045160109398\n",
            "fitness at iteration 400 -371.0327362106725\n",
            "fitness at iteration 500 -371.0287221432075\n",
            "fitness at iteration 600 -371.0254422842018\n",
            "fitness at iteration 700 -371.02439108762695\n",
            "fitness at iteration 800 -371.0238730029961\n",
            "fitness at iteration 900 -371.0230496726076\n",
            "fitness at iteration 1000 -371.0227458692442\n",
            "fitness at iteration 1100 -371.0224627001855\n",
            "fitness at iteration 1200 -371.0222534758974\n",
            "fitness at iteration 1300 -371.0222284590484\n",
            "fitness at iteration 1400 -371.0222273000362\n",
            "fitness at iteration 1500 -371.0222272911976\n",
            "fitness at iteration 1600 -371.0222272911834\n",
            "fitness at iteration 1700 -371.02222729118324\n",
            "fitness at iteration 1800 -371.0222272911832\n",
            "fitness at iteration 1900 -371.0222272911831\n",
            "fitness at iteration 2000 -371.0222272911831\n",
            "fitness at iteration 2100 -371.0222272911831\n",
            "fitness at iteration 2200 -371.0222272911831\n",
            "fitness at iteration 2300 -371.02222729118307\n",
            "fitness at iteration 2400 -371.02222729118307\n",
            "fitness at iteration 2500 -371.02222729118307\n",
            "fitness at iteration 2600 -371.02222729118307\n",
            "fitness at iteration 2700 -371.02222729118307\n",
            "fitness at iteration 2800 -371.02222729118307\n",
            "fitness at iteration 2900 -371.02222729118307\n",
            "fitness at iteration 3000 -371.02222729118307\n",
            "fitness at iteration 3100 -371.02222729118307\n",
            "fitness at iteration 3200 -371.02222729118307\n",
            "fitness at iteration 3300 -371.02222729118307\n",
            "fitness at iteration 3400 -371.02222729118307\n",
            "fitness at iteration 3500 -371.02222729118307\n",
            "fitness at iteration 3600 -371.02222729118307\n",
            "fitness at iteration 3700 -371.02222729118307\n",
            "fitness at iteration 3800 -371.02222729118307\n",
            "fitness at iteration 3900 -371.02222729118307\n",
            "fitness at iteration 4000 -371.02222729118307\n",
            "fitness at iteration 4100 -371.02222729118307\n",
            "fitness at iteration 4200 -371.02222729118307\n",
            "fitness at iteration 4300 -371.02222729118307\n",
            "fitness at iteration 4400 -371.02222729118307\n",
            "fitness at iteration 4500 -371.02222729118307\n",
            "fitness at iteration 4600 -371.02222729118307\n",
            "fitness at iteration 4700 -371.02222729118307\n",
            "fitness at iteration 4800 -371.02222729118307\n",
            "fitness at iteration 4900 -371.02222729118307\n",
            "fitness at iteration 5000 -371.02222729118307\n",
            "local optimum discovered by solver:\n",
            " [0.07927002 0.06638437 0.07927003 0.06638439 0.07927002 0.0663844\n",
            " 0.07927002 0.0663844  0.07927002 0.06638439 0.07927001 0.06638442\n",
            " 0.07927001 0.06638442 0.07926998 0.06638442 0.07926998 0.0663844\n",
            " 0.07926999 0.06638439 0.07927001 0.06638437 0.07927003 0.06638441\n",
            " 0.07927    0.0663844  0.07927001 0.06638441 0.07927    0.0663844\n",
            " 0.07927002 0.06638438 0.07927001 0.06638443 0.07927    0.06638441\n",
            " 0.07927    0.06638441 0.07927    0.06638441 0.07927    0.06638442\n",
            " 0.07926999 0.06638442 0.07927    0.06638441 0.07927    0.06638441\n",
            " 0.07927    0.06638447 0.07926994 0.06638447 0.07926993 0.06638447\n",
            " 0.07926994 0.06638447 0.07926994 0.06638447 0.07926995 0.06638447\n",
            " 0.07926994 0.06638447 0.07926994 0.06638446 0.07926995 0.06638446\n",
            " 0.07926995 0.06638445 0.07926995 0.06638441 0.07926998 0.06638447\n",
            " 0.07926987 0.06638459 0.07926982 0.06638455 0.07926985 0.06638458\n",
            " 0.07926987 0.06638448 0.07926987 0.06638457 0.07926988 0.06638449\n",
            " 0.07926995 0.06638446 0.07926998 0.0663845  0.07926988 0.06638446\n",
            " 0.07926988 0.06638462 0.07926976 0.06638463 0.07926975 0.06638473\n",
            " 0.07926969 0.06638474 0.07926971 0.06638472]\n",
            "fitness score at this local optimum: -371.02222729118307\n"
          ],
          "name": "stdout"
        }
      ]
    },
    {
      "cell_type": "code",
      "metadata": {
        "id": "_tenlnwpOW8a",
        "colab_type": "code",
        "colab": {}
      },
      "source": [
        "# defines OpenAI's ES algorithm solver. Note that we needed to anneal the sigma parameter\n",
        "oes = OpenES(NPARAMS,                  # number of model parameters\n",
        "            sigma_init=1,            # initial standard deviation\n",
        "            sigma_decay=0.999,         # don't anneal standard deviation\n",
        "            learning_rate=0.1,         # learning rate for standard deviation\n",
        "            learning_rate_decay = 1.0, # annealing the learning rate\n",
        "            popsize=NPOPULATION,       # population size\n",
        "            antithetic=False,          # whether to use antithetic sampling\n",
        "            weight_decay=0.00,         # weight decay coefficient\n",
        "            rank_fitness=False,        # use rank rather than fitness numbers\n",
        "            forget_best=False)"
      ],
      "execution_count": 0,
      "outputs": []
    },
    {
      "cell_type": "code",
      "metadata": {
        "id": "4OZFuV-ROY7a",
        "colab_type": "code",
        "outputId": "0c1c0bf1-ef74-414b-806a-a8ae0409cb5c",
        "colab": {
          "base_uri": "https://localhost:8080/",
          "height": 1000
        }
      },
      "source": [
        "oes_history = test_solver(oes)"
      ],
      "execution_count": 65,
      "outputs": [
        {
          "output_type": "stream",
          "text": [
            "fitness at iteration 100 -472.43350688685257\n",
            "fitness at iteration 200 -431.9372906305363\n",
            "fitness at iteration 300 -365.7131643217172\n",
            "fitness at iteration 400 -281.2637135835972\n",
            "fitness at iteration 500 -226.11682551068463\n",
            "fitness at iteration 600 -194.01947795101873\n",
            "fitness at iteration 700 -185.39789457598093\n",
            "fitness at iteration 800 -172.4069250555008\n",
            "fitness at iteration 900 -165.24134952016698\n",
            "fitness at iteration 1000 -157.17210950466492\n",
            "fitness at iteration 1100 -155.2585780901066\n",
            "fitness at iteration 1200 -151.80148476905532\n",
            "fitness at iteration 1300 -150.6683676481102\n",
            "fitness at iteration 1400 -145.470620475471\n",
            "fitness at iteration 1500 -143.35073864463203\n",
            "fitness at iteration 1600 -139.7839979881014\n",
            "fitness at iteration 1700 -138.20538817866785\n",
            "fitness at iteration 1800 -132.82632860455155\n",
            "fitness at iteration 1900 -132.4136044453893\n",
            "fitness at iteration 2000 -132.29687564565228\n",
            "fitness at iteration 2100 -128.83957832512843\n",
            "fitness at iteration 2200 -128.83957832512843\n",
            "fitness at iteration 2300 -128.83957832512843\n",
            "fitness at iteration 2400 -126.93058197367863\n",
            "fitness at iteration 2500 -124.79984750433277\n",
            "fitness at iteration 2600 -124.79984750433277\n",
            "fitness at iteration 2700 -124.56509473470095\n",
            "fitness at iteration 2800 -124.3068590275623\n",
            "fitness at iteration 2900 -124.05865143821374\n",
            "fitness at iteration 3000 -124.05865143821374\n",
            "fitness at iteration 3100 -124.05865143821374\n",
            "fitness at iteration 3200 -124.05865143821374\n",
            "fitness at iteration 3300 -124.05865143821374\n",
            "fitness at iteration 3400 -124.05865143821374\n",
            "fitness at iteration 3500 -124.05865143821374\n",
            "fitness at iteration 3600 -124.05865143821374\n",
            "fitness at iteration 3700 -124.05865143821374\n",
            "fitness at iteration 3800 -124.05865143821374\n",
            "fitness at iteration 3900 -124.05865143821374\n",
            "fitness at iteration 4000 -124.05865143821374\n",
            "fitness at iteration 4100 -124.05865143821374\n",
            "fitness at iteration 4200 -124.05865143821374\n",
            "fitness at iteration 4300 -124.05865143821374\n",
            "fitness at iteration 4400 -124.05865143821374\n",
            "fitness at iteration 4500 -124.05865143821374\n",
            "fitness at iteration 4600 -124.05865143821374\n",
            "fitness at iteration 4700 -124.05865143821374\n",
            "fitness at iteration 4800 -124.05865143821374\n",
            "fitness at iteration 4900 -124.05865143821374\n",
            "fitness at iteration 5000 -124.05865143821374\n",
            "local optimum discovered by solver:\n",
            " [-3.91739797 10.06435222  9.8518538  10.15505894  9.97977942 10.02143613\n",
            " -4.20798668  9.97794358 10.09447216 10.00182065  9.9702482   9.90371252\n",
            "  9.9901259   9.98061448 -4.15098486  9.87673609 10.16662122  9.73641087\n",
            " 10.04841212  9.87027475 10.17301281  9.99684794 10.01003574  9.75196682\n",
            " 10.01786533  9.82200565  9.9283429   9.96446958 10.0438925  10.07919587\n",
            " -4.2021715  10.26342847 10.07133603 10.00517601  9.97988558 10.02678568\n",
            "  9.86794651 10.13376102  9.92872746 10.08134336  9.86982282  9.97817444\n",
            "  9.8392241   9.95900419 10.00423998  9.85975463  9.69195294  9.27981835\n",
            " -4.04730116 10.04763524 10.02837511 10.02062707  9.96605534  9.89910632\n",
            " 10.10070744 10.15466405 10.00538039  9.99868506  9.90492221  9.85475785\n",
            "  9.8281553   9.96696262  9.92660896  9.9379059   0.61477129 -0.77343429\n",
            "  1.69792038 -1.52088669 10.02865596  9.90523951  9.96221923  9.9484577\n",
            " 10.36242673  9.95454771  9.84053237  2.2776736  -1.68346538 10.03007462\n",
            "  9.94213183  9.70386887 -4.28329627  9.98576857  9.98876074  9.84776334\n",
            "  9.92109022 -4.07796478  9.79155091 10.12924008 10.17350493  9.98523189\n",
            "  9.99928658 10.06735514  9.99350973 10.00559715  9.98773557  9.76039372\n",
            "  9.68094545  9.56853581  0.34102401 -0.2928806 ]\n",
            "fitness score at this local optimum: -124.05865143821374\n"
          ],
          "name": "stdout"
        }
      ]
    },
    {
      "cell_type": "code",
      "metadata": {
        "id": "KhL7TovbOiIi",
        "colab_type": "code",
        "colab": {}
      },
      "source": [
        "global_pso = Pyswarms(num_params = NPARAMS,\n",
        "            popsize = NPOPULATION,\n",
        "            sigma_init = 1,\n",
        "            weight_decay = 0.00,\n",
        "            communication_topology = 'global')"
      ],
      "execution_count": 0,
      "outputs": []
    },
    {
      "cell_type": "code",
      "metadata": {
        "id": "61vbT9NnPS1C",
        "colab_type": "code",
        "outputId": "239b3630-f979-442a-e891-69f2f7368a15",
        "colab": {
          "base_uri": "https://localhost:8080/",
          "height": 1000
        }
      },
      "source": [
        "global_pso_history = test_solver(global_pso)"
      ],
      "execution_count": 67,
      "outputs": [
        {
          "output_type": "stream",
          "text": [
            "fitness at iteration 100 -379.0958095418429\n",
            "fitness at iteration 200 -376.49176168753786\n",
            "fitness at iteration 300 -375.72857830509173\n",
            "fitness at iteration 400 -375.62876836199365\n",
            "fitness at iteration 500 -375.41533708844185\n",
            "fitness at iteration 600 -375.37318526040497\n",
            "fitness at iteration 700 -375.34375657654573\n",
            "fitness at iteration 800 -375.34108466113537\n",
            "fitness at iteration 900 -375.3308145492524\n",
            "fitness at iteration 1000 -375.33081275350133\n",
            "fitness at iteration 1100 -375.27853176444205\n",
            "fitness at iteration 1200 -375.2785306459522\n",
            "fitness at iteration 1300 -375.2535580042918\n",
            "fitness at iteration 1400 -375.2535580042222\n",
            "fitness at iteration 1500 -375.25355800422216\n",
            "fitness at iteration 1600 -375.25355800422216\n",
            "fitness at iteration 1700 -375.25355800422216\n",
            "fitness at iteration 1800 -375.25355800422216\n",
            "fitness at iteration 1900 -375.25355800422216\n",
            "fitness at iteration 2000 -375.25355800422216\n",
            "fitness at iteration 2100 -375.25355800422216\n",
            "fitness at iteration 2200 -375.25355800422216\n",
            "fitness at iteration 2300 -375.25355800422216\n",
            "fitness at iteration 2400 -375.25355800422216\n",
            "fitness at iteration 2500 -375.25355800422216\n",
            "fitness at iteration 2600 -375.25355800422216\n",
            "fitness at iteration 2700 -375.25355800422216\n",
            "fitness at iteration 2800 -375.25355800422216\n",
            "fitness at iteration 2900 -375.25355800422216\n",
            "fitness at iteration 3000 -375.25355800422216\n",
            "fitness at iteration 3100 -375.25355800422216\n",
            "fitness at iteration 3200 -375.25355800422216\n",
            "fitness at iteration 3300 -375.25355800422216\n",
            "fitness at iteration 3400 -375.25355800422216\n",
            "fitness at iteration 3500 -375.25355800422216\n",
            "fitness at iteration 3600 -375.25355800422216\n",
            "fitness at iteration 3700 -375.2535580042221\n",
            "fitness at iteration 3800 -375.2535580042221\n",
            "fitness at iteration 3900 -375.2535580042221\n",
            "fitness at iteration 4000 -375.2535580042221\n",
            "fitness at iteration 4100 -375.2535580042221\n",
            "fitness at iteration 4200 -375.2535580042221\n",
            "fitness at iteration 4300 -375.2535580042221\n",
            "fitness at iteration 4400 -375.2535580042221\n",
            "fitness at iteration 4500 -375.2535580042221\n",
            "fitness at iteration 4600 -375.2535580042221\n",
            "fitness at iteration 4700 -375.2535580042221\n",
            "fitness at iteration 4800 -375.2535580042221\n",
            "fitness at iteration 4900 -375.2535580042221\n",
            "fitness at iteration 5000 -375.2535580042221\n",
            "local optimum discovered by solver:\n",
            " [-0.20601391  0.24902154  0.01478937  0.01344292  0.18928843 -0.1453284\n",
            "  0.38087889 -0.20328703  0.33278244 -0.15774036  0.28492805 -0.18244763\n",
            "  0.31068563  0.12897809 -0.12971413  0.38847685 -0.26462666  0.44878466\n",
            " -0.2393099   0.34127747 -0.09339887  0.12318403  0.06200228  0.04828399\n",
            "  0.13220921 -0.15148596  0.17588771  0.05999798  0.03892567  0.10172079\n",
            "  0.04264665  0.11535615 -0.02876813  0.22299167 -0.03780128  0.1071362\n",
            " -0.26572562  0.58863602 -0.60460378  1.0101276  -0.73395896  0.88831134\n",
            " -0.62845084  0.49549561 -0.04176402  0.10687532  0.11682205  0.0038241\n",
            "  0.36440655 -0.34994064  0.58802994 -0.54460235  0.8593559  -0.88091963\n",
            "  1.09772684 -0.80289427  0.86353666 -0.51719683  0.53409626 -0.21910953\n",
            "  0.21422748 -0.08626842  0.26178396 -0.10616666  0.16582748  0.05661993\n",
            " -0.00457021  0.18222657 -0.06624283  0.03191614  0.20614803 -0.14978048\n",
            "  0.23049721 -0.0152831   0.02042652  0.19328061 -0.11601563  0.33123248\n",
            " -0.1976342   0.24619768  0.03425595  0.21605775 -0.1677698   0.45355048\n",
            " -0.42391437  0.33472254  0.04747145 -0.07420491  0.39435274 -0.33581319\n",
            "  0.5591746  -0.39732886  0.5201076  -0.08260069  0.01395175  0.25362636\n",
            " -0.22414586  0.37874007 -0.11006475  0.09985544]\n",
            "fitness score at this local optimum: -375.2535580042221\n"
          ],
          "name": "stdout"
        }
      ]
    },
    {
      "cell_type": "code",
      "metadata": {
        "id": "MOB9pSonulu6",
        "colab_type": "code",
        "colab": {}
      },
      "source": [
        "local_pso = Pyswarms(num_params = NPARAMS,\n",
        "            popsize = NPOPULATION,\n",
        "            sigma_init = 1,\n",
        "            weight_decay = 0.00,\n",
        "            communication_topology = 'local')"
      ],
      "execution_count": 0,
      "outputs": []
    },
    {
      "cell_type": "code",
      "metadata": {
        "id": "RAUEzPycumS9",
        "colab_type": "code",
        "colab": {
          "base_uri": "https://localhost:8080/",
          "height": 1000
        },
        "outputId": "8d074d6a-7102-4b0e-b436-25cdbbcadaaa"
      },
      "source": [
        "local_pso_history = test_solver(local_pso)"
      ],
      "execution_count": 69,
      "outputs": [
        {
          "output_type": "stream",
          "text": [
            "fitness at iteration 100 -423.9066441901697\n",
            "fitness at iteration 200 -423.6864592303845\n",
            "fitness at iteration 300 -423.686429515995\n",
            "fitness at iteration 400 -423.6864295156993\n",
            "fitness at iteration 500 -423.6864295156993\n",
            "fitness at iteration 600 -423.6864295156993\n",
            "fitness at iteration 700 -423.6864295156993\n",
            "fitness at iteration 800 -423.6864295156993\n",
            "fitness at iteration 900 -423.6864295156993\n",
            "fitness at iteration 1000 -423.6864295156993\n",
            "fitness at iteration 1100 -423.6864295156993\n",
            "fitness at iteration 1200 -423.6864295156993\n",
            "fitness at iteration 1300 -423.6864295156993\n",
            "fitness at iteration 1400 -423.6864295156993\n",
            "fitness at iteration 1500 -423.6864295156993\n",
            "fitness at iteration 1600 -423.6864295156993\n",
            "fitness at iteration 1700 -423.6864295156993\n",
            "fitness at iteration 1800 -423.6864295156993\n",
            "fitness at iteration 1900 -423.6864295156993\n",
            "fitness at iteration 2000 -423.6864295156993\n",
            "fitness at iteration 2100 -423.6864295156993\n",
            "fitness at iteration 2200 -423.6864295156993\n",
            "fitness at iteration 2300 -423.6864295156993\n",
            "fitness at iteration 2400 -423.6864295156993\n",
            "fitness at iteration 2500 -423.6864295156993\n",
            "fitness at iteration 2600 -423.6864295156993\n",
            "fitness at iteration 2700 -423.6864295156993\n",
            "fitness at iteration 2800 -423.6864295156993\n",
            "fitness at iteration 2900 -423.6864295156993\n",
            "fitness at iteration 3000 -423.6864295156993\n",
            "fitness at iteration 3100 -423.6864295156993\n",
            "fitness at iteration 3200 -423.6864295156993\n",
            "fitness at iteration 3300 -423.6864295156993\n",
            "fitness at iteration 3400 -423.6864295156993\n",
            "fitness at iteration 3500 -423.6864295156993\n",
            "fitness at iteration 3600 -423.6864295156993\n",
            "fitness at iteration 3700 -423.6864295156993\n",
            "fitness at iteration 3800 -423.6864295156993\n",
            "fitness at iteration 3900 -423.6864295156993\n",
            "fitness at iteration 4000 -423.6864295156993\n",
            "fitness at iteration 4100 -423.6864295156993\n",
            "fitness at iteration 4200 -423.6864295156993\n",
            "fitness at iteration 4300 -423.6864295156993\n",
            "fitness at iteration 4400 -423.6864295156993\n",
            "fitness at iteration 4500 -423.6864295156993\n",
            "fitness at iteration 4600 -423.6864295156993\n",
            "fitness at iteration 4700 -423.6864295156993\n",
            "fitness at iteration 4800 -423.6864295156993\n",
            "fitness at iteration 4900 -423.6864295156993\n",
            "fitness at iteration 5000 -423.6864295156993\n",
            "local optimum discovered by solver:\n",
            " [-0.31515176  0.30543556  0.15936945 -0.02973042  0.6377422   0.22285733\n",
            "  0.86178043  0.77154658 -0.21489171  0.64963491 -0.04933615  0.03470361\n",
            "  0.1698818   0.05979861  0.00971238 -0.21182295  0.3691263   0.16362248\n",
            "  0.66977159  0.5031114   0.18843763 -0.14509973  0.40605215  0.38396593\n",
            " -0.52722798  0.44181049  0.14209701 -0.73788665  1.03311957 -0.29594628\n",
            "  0.56887954 -0.07860538  0.67811459 -0.57969554  0.44434898 -0.31475407\n",
            "  0.39199434 -0.95034272  0.60547939 -0.32739101  0.14946166  0.70110354\n",
            " -0.19138736  0.50512923  0.12211999  0.22335609  0.87260928 -0.17079848\n",
            " -0.08750498  0.35704475  0.02886248 -0.29669664 -0.0289605   0.17857295\n",
            "  0.0441069  -0.13729056  0.11303666  0.29690988  0.39696762  0.46524638\n",
            " -0.01098254 -0.25720905  0.56608142 -0.24537551  0.29623244  0.39964701\n",
            " -0.39894366 -0.68905517  0.71160713 -0.24989127  0.2731449  -0.3471844\n",
            "  0.06217283 -0.0832047   0.1084512   0.388468    0.13382528 -0.01754457\n",
            "  0.12151553  0.34187148  0.04277514  0.25337172 -0.2523613   0.3852638\n",
            " -0.41586305  0.34878805  0.08373872 -0.27578048 -1.40290334  2.09825199\n",
            "  1.35143431 -0.29357195  0.56566994  0.23631981 -0.49042618  0.45071875\n",
            "  0.07081209 -1.17154924 -0.33681167  1.03215104]\n",
            "fitness score at this local optimum: -423.6864295156993\n"
          ],
          "name": "stdout"
        }
      ]
    },
    {
      "cell_type": "code",
      "metadata": {
        "id": "oHdix5ihumeA",
        "colab_type": "code",
        "colab": {}
      },
      "source": [
        "random_pso = Pyswarms(num_params = NPARAMS,\n",
        "            popsize = NPOPULATION,\n",
        "            sigma_init = 1,\n",
        "            weight_decay = 0.00,\n",
        "            communication_topology = 'random')"
      ],
      "execution_count": 0,
      "outputs": []
    },
    {
      "cell_type": "code",
      "metadata": {
        "id": "boKs45cSumnM",
        "colab_type": "code",
        "colab": {
          "base_uri": "https://localhost:8080/",
          "height": 1000
        },
        "outputId": "5a0b2041-3968-4b30-a927-28c23cb5df14"
      },
      "source": [
        "random_pso_history = test_solver(random_pso)"
      ],
      "execution_count": 71,
      "outputs": [
        {
          "output_type": "stream",
          "text": [
            "fitness at iteration 100 -385.49760630951596\n",
            "fitness at iteration 200 -374.21316102504466\n",
            "fitness at iteration 300 -372.34489482861693\n",
            "fitness at iteration 400 -371.7902915635856\n",
            "fitness at iteration 500 -371.48420566872375\n",
            "fitness at iteration 600 -371.3504753345432\n",
            "fitness at iteration 700 -371.2654294179186\n",
            "fitness at iteration 800 -371.2090190521544\n",
            "fitness at iteration 900 -371.17532820371537\n",
            "fitness at iteration 1000 -371.1454651216299\n",
            "fitness at iteration 1100 -371.12501681059103\n",
            "fitness at iteration 1200 -371.10734333369015\n",
            "fitness at iteration 1300 -371.09586661923066\n",
            "fitness at iteration 1400 -371.0823218628782\n",
            "fitness at iteration 1500 -371.07549951640203\n",
            "fitness at iteration 1600 -371.0690990402071\n",
            "fitness at iteration 1700 -371.0632021767163\n",
            "fitness at iteration 1800 -371.0586213872736\n",
            "fitness at iteration 1900 -371.05391515387464\n",
            "fitness at iteration 2000 -371.0504594140741\n",
            "fitness at iteration 2100 -371.048432210803\n",
            "fitness at iteration 2200 -371.046319220671\n",
            "fitness at iteration 2300 -371.0437807693751\n",
            "fitness at iteration 2400 -371.0418698828142\n",
            "fitness at iteration 2500 -371.0403063371102\n",
            "fitness at iteration 2600 -371.0391358925898\n",
            "fitness at iteration 2700 -371.03764951217954\n",
            "fitness at iteration 2800 -371.03636477192606\n",
            "fitness at iteration 2900 -371.0353828775443\n",
            "fitness at iteration 3000 -371.03455598673975\n",
            "fitness at iteration 3100 -371.03384766335324\n",
            "fitness at iteration 3200 -371.0329744014478\n",
            "fitness at iteration 3300 -371.03232672512866\n",
            "fitness at iteration 3400 -371.03165893419987\n",
            "fitness at iteration 3500 -371.0311268118542\n",
            "fitness at iteration 3600 -371.0306196415038\n",
            "fitness at iteration 3700 -371.03006204725784\n",
            "fitness at iteration 3800 -371.0296370706391\n",
            "fitness at iteration 3900 -371.02926657997716\n",
            "fitness at iteration 4000 -371.02892344822203\n",
            "fitness at iteration 4100 -371.02858230203094\n",
            "fitness at iteration 4200 -371.0282886227432\n",
            "fitness at iteration 4300 -371.0280671812278\n",
            "fitness at iteration 4400 -371.02785601207813\n",
            "fitness at iteration 4500 -371.02762591902564\n",
            "fitness at iteration 4600 -371.0274205842605\n",
            "fitness at iteration 4700 -371.0272305346708\n",
            "fitness at iteration 4800 -371.0270424024955\n",
            "fitness at iteration 4900 -371.0268393607222\n",
            "fitness at iteration 5000 -371.0266924612188\n",
            "local optimum discovered by solver:\n",
            " [ 0.14902329 -0.00359718  0.1508082  -0.00570163  0.15318271 -0.00869507\n",
            "  0.15776822 -0.01373921  0.16244256 -0.01761447  0.16539311 -0.01941577\n",
            "  0.16715831 -0.02044337  0.16602906 -0.01867168  0.16321334 -0.01467545\n",
            "  0.15838951 -0.00835625  0.15053226  0.00048859  0.14204885  0.0083605\n",
            "  0.13331218  0.01664134  0.12719948  0.02145895  0.12249088  0.02549649\n",
            "  0.11972049  0.02628646  0.12162405  0.02153799  0.1276544   0.0142389\n",
            "  0.1356309   0.00488469  0.14780978 -0.00826174  0.1615153  -0.02287451\n",
            "  0.17841452 -0.03993392  0.19570022 -0.05655419  0.21219805 -0.07184039\n",
            "  0.22711278 -0.08499876  0.23916652 -0.09471736  0.24690446 -0.10168177\n",
            "  0.25215751 -0.10470728  0.25310648 -0.10497709  0.25357528 -0.10339061\n",
            "  0.24984658 -0.09846683  0.24430131 -0.09313095  0.23778277 -0.08520802\n",
            "  0.22875084 -0.07547571  0.21827742 -0.06528485  0.20642151 -0.05312941\n",
            "  0.19511482 -0.04319785  0.18435931 -0.03191331  0.17322746 -0.0224512\n",
            "  0.16486843 -0.01442702  0.15703014 -0.00771286  0.15123567 -0.00266754\n",
            "  0.14585634  0.00320314  0.1396015   0.00979985  0.13302127  0.01615777\n",
            "  0.12714779  0.02190025  0.12087402  0.02765514  0.11571804  0.03199415\n",
            "  0.11224938  0.03478397  0.10969524  0.03520585]\n",
            "fitness score at this local optimum: -371.0266924612188\n"
          ],
          "name": "stdout"
        }
      ]
    },
    {
      "cell_type": "code",
      "metadata": {
        "id": "6_Mb-o9rbIYg",
        "colab_type": "code",
        "outputId": "93b0bbd6-0a3a-49da-ff21-1e5684a624e2",
        "colab": {
          "base_uri": "https://localhost:8080/",
          "height": 1000
        }
      },
      "source": [
        "# Create a new figure of size 8x6 points, using 100 dots per inch\n",
        "best_history = [0] * MAX_ITERATION\n",
        "plt.figure(figsize=(10,8), dpi=150)\n",
        "\n",
        "optimum_line, = plt.plot(best_history, color=\"black\", linewidth=0.5, linestyle=\"-.\", label='Global Optimum')\n",
        "ga_line, = plt.plot(ga_history, color=\"green\", linewidth=1.0, linestyle=\"-\", label='GA')\n",
        "oes_line, = plt.plot(oes_history, color=\"orange\", linewidth=1.0, linestyle=\"-\", label='OpenAI-ES')\n",
        "cma_line, = plt.plot(cma_history, color=\"red\", linewidth=1.0, linestyle=\"-\", label='CMA-ES')\n",
        "global_pso_line, = plt.plot(global_pso_history, color=\"pink\", linewidth=1.0, linestyle=\"-\", label='Global PSO')\n",
        "local_pso_line, = plt.plot(local_pso_history, color=\"yellow\", linewidth=1.0, linestyle=\"-\", label='Local PSO')\n",
        "random_pso_line, = plt.plot(random_pso_history, color=\"blue\", linewidth=1.0, linestyle=\"-\", label='Random PSO')\n",
        "\n",
        "\n",
        "\n",
        "\n",
        "plt.legend(handles=[optimum_line, ga_line, cma_line, oes_line, global_pso_line,local_pso_line,random_pso_line], loc=4)\n",
        "\n",
        "# Set x limits\n",
        "plt.xlim(0,MAX_ITERATION)\n",
        "#plt.ylim(-1.1,0.01)\n",
        "\n",
        "plt.xlabel('generation')\n",
        "plt.ylabel('fitness')\n",
        "\n",
        "# plt.savefig(\"./rastrigin_10d.svg\")\n",
        "\n",
        "plt.show()"
      ],
      "execution_count": 72,
      "outputs": [
        {
          "output_type": "display_data",
          "data": {
            "image/png": "[encoded data removed]",
            "text/plain": [
              "<Figure size 1500x1200 with 1 Axes>"
            ]
          },
          "metadata": {
            "tags": []
          }
        }
      ]
    }
  ]
}